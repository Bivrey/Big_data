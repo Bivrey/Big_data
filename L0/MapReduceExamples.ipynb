{
 "cells": [
  {
   "cell_type": "markdown",
   "metadata": {
    "id": "82OvPKEiEqjc"
   },
   "source": [
    "# Введение в MapReduce модель на Python\n"
   ]
  },
  {
   "cell_type": "code",
   "execution_count": 85,
   "metadata": {
    "id": "JQ2cvXLjICmI"
   },
   "outputs": [],
   "source": [
    "from typing import NamedTuple # requires python 3.6+\n",
    "from typing import Iterator"
   ]
  },
  {
   "cell_type": "code",
   "execution_count": 86,
   "metadata": {
    "id": "yjPHumVwEyEg"
   },
   "outputs": [],
   "source": [
    "def MAP(_, row:NamedTuple):\n",
    "    if (row.gender == 'female'):\n",
    "        yield (row.age, row)\n",
    "    \n",
    "def REDUCE(age:str, rows:Iterator[NamedTuple]):\n",
    "    sum = 0\n",
    "    count = 0\n",
    "    for row in rows:\n",
    "        sum += row.social_contacts\n",
    "        count += 1\n",
    "    if (count > 0):\n",
    "        yield (age, sum/count)\n",
    "    else:\n",
    "        yield (age, 0)"
   ]
  },
  {
   "cell_type": "markdown",
   "metadata": {
    "id": "vBKMgpG_ilaZ"
   },
   "source": [
    "Модель элемента данных"
   ]
  },
  {
   "cell_type": "code",
   "execution_count": 87,
   "metadata": {
    "id": "Rv-XIjhTJPx3"
   },
   "outputs": [],
   "source": [
    "class User(NamedTuple):\n",
    "    id: int\n",
    "    age: str\n",
    "    social_contacts: int\n",
    "    gender: str"
   ]
  },
  {
   "cell_type": "code",
   "execution_count": 88,
   "metadata": {
    "id": "5KV0Ze2vQgu5"
   },
   "outputs": [],
   "source": [
    "input_collection = [\n",
    "    User(id=0, age=55, gender='male', social_contacts=20),\n",
    "    User(id=1, age=25, gender='female', social_contacts=240),\n",
    "    User(id=2, age=25, gender='female', social_contacts=500),\n",
    "    User(id=3, age=33, gender='female', social_contacts=800)\n",
    "]"
   ]
  },
  {
   "cell_type": "markdown",
   "metadata": {
    "id": "YFeqzyZxZIFZ"
   },
   "source": [
    "Функция RECORDREADER моделирует чтение элементов с диска или по сети."
   ]
  },
  {
   "cell_type": "code",
   "execution_count": 89,
   "metadata": {
    "id": "S5HR4E_GQoMJ"
   },
   "outputs": [],
   "source": [
    "def RECORDREADER():\n",
    "    return [(u.id, u) for u in input_collection]"
   ]
  },
  {
   "cell_type": "code",
   "execution_count": 90,
   "metadata": {
    "colab": {
     "base_uri": "https://localhost:8080/",
     "height": 85
    },
    "id": "NeEoWla-ROUy",
    "outputId": "94ca6e0e-4644-4282-acbf-1759d7ba2918"
   },
   "outputs": [
    {
     "data": {
      "text/plain": [
       "[(0, User(id=0, age=55, social_contacts=20, gender='male')),\n",
       " (1, User(id=1, age=25, social_contacts=240, gender='female')),\n",
       " (2, User(id=2, age=25, social_contacts=500, gender='female')),\n",
       " (3, User(id=3, age=33, social_contacts=800, gender='female'))]"
      ]
     },
     "execution_count": 90,
     "metadata": {},
     "output_type": "execute_result"
    }
   ],
   "source": [
    "list(RECORDREADER())"
   ]
  },
  {
   "cell_type": "code",
   "execution_count": 91,
   "metadata": {
    "id": "YB8orgPSZs8M"
   },
   "outputs": [],
   "source": [
    "def flatten(nested_iterable):\n",
    "    for iterable in nested_iterable:\n",
    "        for element in iterable:\n",
    "            yield element"
   ]
  },
  {
   "cell_type": "code",
   "execution_count": 92,
   "metadata": {
    "colab": {
     "base_uri": "https://localhost:8080/",
     "height": 68
    },
    "id": "74oyvDLaRmd5",
    "outputId": "c6147702-7153-47c7-a574-d5fe6abe29a8"
   },
   "outputs": [
    {
     "data": {
      "text/plain": [
       "[(25, User(id=1, age=25, social_contacts=240, gender='female')),\n",
       " (25, User(id=2, age=25, social_contacts=500, gender='female')),\n",
       " (33, User(id=3, age=33, social_contacts=800, gender='female'))]"
      ]
     },
     "execution_count": 92,
     "metadata": {},
     "output_type": "execute_result"
    }
   ],
   "source": [
    "map_output = flatten(map(lambda x: MAP(*x), RECORDREADER()))\n",
    "map_output = list(map_output) # materialize\n",
    "map_output"
   ]
  },
  {
   "cell_type": "code",
   "execution_count": 93,
   "metadata": {
    "id": "8ncYDJ3-VzDn"
   },
   "outputs": [],
   "source": [
    "def groupbykey(iterable):\n",
    "    t = {}\n",
    "    for (k2, v2) in iterable:\n",
    "        t[k2] = t.get(k2, []) + [v2]\n",
    "    return t.items()"
   ]
  },
  {
   "cell_type": "code",
   "execution_count": 94,
   "metadata": {
    "colab": {
     "base_uri": "https://localhost:8080/",
     "height": 85
    },
    "id": "cKzY_6COWOA2",
    "outputId": "e6791b12-e409-47e9-bcd4-e9f8ca8611bd"
   },
   "outputs": [
    {
     "data": {
      "text/plain": [
       "[(25,\n",
       "  [User(id=1, age=25, social_contacts=240, gender='female'),\n",
       "   User(id=2, age=25, social_contacts=500, gender='female')]),\n",
       " (33, [User(id=3, age=33, social_contacts=800, gender='female')])]"
      ]
     },
     "execution_count": 94,
     "metadata": {},
     "output_type": "execute_result"
    }
   ],
   "source": [
    "shuffle_output = groupbykey(map_output)\n",
    "shuffle_output = list(shuffle_output)\n",
    "shuffle_output"
   ]
  },
  {
   "cell_type": "code",
   "execution_count": 95,
   "metadata": {
    "colab": {
     "base_uri": "https://localhost:8080/",
     "height": 34
    },
    "id": "NlA7lkDDYL0t",
    "outputId": "6b25d03f-5c92-4f3b-f500-6d70acd598b7"
   },
   "outputs": [
    {
     "data": {
      "text/plain": [
       "[(25, 370.0), (33, 800.0)]"
      ]
     },
     "execution_count": 95,
     "metadata": {},
     "output_type": "execute_result"
    }
   ],
   "source": [
    "reduce_output = flatten(map(lambda x: REDUCE(*x), shuffle_output))\n",
    "reduce_output = list(reduce_output)\n",
    "reduce_output"
   ]
  },
  {
   "cell_type": "markdown",
   "metadata": {
    "id": "xf6qhHEtd6bI"
   },
   "source": [
    "Все действия одним конвейером!"
   ]
  },
  {
   "cell_type": "code",
   "execution_count": 96,
   "metadata": {
    "colab": {
     "base_uri": "https://localhost:8080/",
     "height": 34
    },
    "id": "dZaQGYxCdpw5",
    "outputId": "3f5c6425-e5c5-49d2-b2cd-ce58a9acc33c"
   },
   "outputs": [
    {
     "data": {
      "text/plain": [
       "[(25, 370.0), (33, 800.0)]"
      ]
     },
     "execution_count": 96,
     "metadata": {},
     "output_type": "execute_result"
    }
   ],
   "source": [
    "list(flatten(map(lambda x: REDUCE(*x), groupbykey(flatten(map(lambda x: MAP(*x), RECORDREADER()))))))"
   ]
  },
  {
   "cell_type": "markdown",
   "metadata": {
    "id": "Vq3EWRIpwSiJ"
   },
   "source": [
    "# **MapReduce**\n",
    "Выделим общую для всех пользователей часть системы в отдельную функцию высшего порядка. Это наиболее простая модель MapReduce, без учёта распределённого хранения данных. \n",
    "\n",
    "Пользователь для решения своей задачи реализует RECORDREADER, MAP, REDUCE."
   ]
  },
  {
   "cell_type": "code",
   "execution_count": 97,
   "metadata": {
    "id": "V1PZeQMwwVjc"
   },
   "outputs": [],
   "source": [
    "def flatten(nested_iterable):\n",
    "  for iterable in nested_iterable:\n",
    "    for element in iterable:\n",
    "      yield element\n",
    "\n",
    "def groupbykey(iterable):\n",
    "  t = {}\n",
    "  for (k2, v2) in iterable:\n",
    "    t[k2] = t.get(k2, []) + [v2]\n",
    "  return t.items()\n",
    "\n",
    "def groupbykeysorted(iterable):\n",
    "    t = {}\n",
    "    for (k2, v2) in iterable:\n",
    "      t[k2] = t.get(k2, []) + [v2]\n",
    "    print(t.items())\n",
    "    print(sorted(t.items(), key=lambda x: x[1]))\n",
    "    return sorted(t.items(), key=lambda x: x[1])\n",
    "\n",
    "def MapReduce(RECORDREADER, MAP, REDUCE):\n",
    "  return flatten(map(lambda x: REDUCE(*x), groupbykey(flatten(map(lambda x: MAP(*x), RECORDREADER())))))"
   ]
  },
  {
   "cell_type": "markdown",
   "metadata": {
    "id": "iFIVrimep678"
   },
   "source": [
    "## Спецификация MapReduce\n",
    "\n",
    "\n",
    "\n",
    "```\n",
    "f (k1, v1) -> (k2,v2)*\n",
    "g (k2, v2*) -> (k3,v3)*\n",
    " \n",
    "mapreduce ((k1,v1)*) -> (k3,v3)*\n",
    "groupby ((k2,v2)*) -> (k2,v2*)*\n",
    "flatten (e2**) -> e2*\n",
    " \n",
    "mapreduce .map(f).flatten.groupby(k2).map(g).flatten\n",
    "```\n",
    "\n",
    "\n"
   ]
  },
  {
   "cell_type": "markdown",
   "metadata": {
    "id": "QtTFyqke3KGe"
   },
   "source": [
    "# Примеры"
   ]
  },
  {
   "cell_type": "markdown",
   "metadata": {
    "id": "BNhh5763w5Vn"
   },
   "source": [
    "## SQL "
   ]
  },
  {
   "cell_type": "code",
   "execution_count": 98,
   "metadata": {
    "colab": {
     "base_uri": "https://localhost:8080/",
     "height": 34
    },
    "id": "QkyurnvGxBGk",
    "outputId": "84761282-d2ba-435a-e8d7-a85150730e10"
   },
   "outputs": [
    {
     "data": {
      "text/plain": [
       "[(25, 370.0), (33, 800.0)]"
      ]
     },
     "execution_count": 98,
     "metadata": {},
     "output_type": "execute_result"
    }
   ],
   "source": [
    "from typing import NamedTuple # requires python 3.6+\n",
    "from typing import Iterator\n",
    "\n",
    "class User(NamedTuple):\n",
    "  id: int\n",
    "  age: str\n",
    "  social_contacts: int\n",
    "  gender: str\n",
    "    \n",
    "input_collection = [\n",
    "    User(id=0, age=55, gender='male', social_contacts=20),\n",
    "    User(id=1, age=25, gender='female', social_contacts=240),\n",
    "    User(id=2, age=25, gender='female', social_contacts=500),\n",
    "    User(id=3, age=33, gender='female', social_contacts=800)\n",
    "]\n",
    "\n",
    "def MAP(_, row:NamedTuple):\n",
    "  if (row.gender == 'female'):\n",
    "    yield (row.age, row)\n",
    "    \n",
    "def REDUCE(age:str, rows:Iterator[NamedTuple]):\n",
    "  sum = 0\n",
    "  count = 0\n",
    "  for row in rows:\n",
    "    sum += row.social_contacts\n",
    "    count += 1\n",
    "  if (count > 0):\n",
    "    yield (age, sum/count)\n",
    "  else:\n",
    "    yield (age, 0)\n",
    " \n",
    "def RECORDREADER():\n",
    "  return [(u.id, u) for u in input_collection]\n",
    "\n",
    "output = MapReduce(RECORDREADER, MAP, REDUCE)\n",
    "output = list(output)\n",
    "output"
   ]
  },
  {
   "cell_type": "markdown",
   "metadata": {
    "id": "kNKYIeerx0nY"
   },
   "source": [
    "## Matrix-Vector multiplication "
   ]
  },
  {
   "cell_type": "code",
   "execution_count": 99,
   "metadata": {
    "colab": {
     "base_uri": "https://localhost:8080/",
     "height": 102
    },
    "id": "rwcntRcCyi1V",
    "outputId": "606737ab-6b55-455c-931f-4fc45155f8a9"
   },
   "outputs": [
    {
     "data": {
      "text/plain": [
       "[(0, 1.6456042614074864),\n",
       " (1, 1.6456042614074864),\n",
       " (2, 1.6456042614074864),\n",
       " (3, 1.6456042614074864),\n",
       " (4, 1.6456042614074864)]"
      ]
     },
     "execution_count": 99,
     "metadata": {},
     "output_type": "execute_result"
    }
   ],
   "source": [
    "from typing import Iterator\n",
    "import numpy as np\n",
    "\n",
    "mat = np.ones((5,4))\n",
    "vec = np.random.rand(4) # in-memory vector in all map tasks\n",
    "\n",
    "def MAP(coordinates:(int, int), value:int):\n",
    "  i, j = coordinates\n",
    "  yield (i, value*vec[j])\n",
    " \n",
    "def REDUCE(i:int, products:Iterator[NamedTuple]):\n",
    "  sum = 0\n",
    "  for p in products:\n",
    "    sum += p\n",
    "  yield (i, sum)\n",
    "\n",
    "def RECORDREADER():\n",
    "  for i in range(mat.shape[0]):\n",
    "    for j in range(mat.shape[1]):\n",
    "      yield ((i, j), mat[i,j])\n",
    "      \n",
    "output = MapReduce(RECORDREADER, MAP, REDUCE)\n",
    "output = list(output)\n",
    "output"
   ]
  },
  {
   "cell_type": "markdown",
   "metadata": {
    "id": "ruZREYdi2o4O"
   },
   "source": [
    "## Inverted index "
   ]
  },
  {
   "cell_type": "code",
   "execution_count": 100,
   "metadata": {
    "colab": {
     "base_uri": "https://localhost:8080/",
     "height": 102
    },
    "id": "vt9H9Alf3TYv",
    "outputId": "51aeffc9-e111-4607-bd84-cfcc7b56f238"
   },
   "outputs": [
    {
     "data": {
      "text/plain": [
       "[('is', ['0', '1', '2']),\n",
       " ('what', ['0', '1']),\n",
       " ('it', ['0', '1', '2']),\n",
       " ('banana', ['2']),\n",
       " ('a', ['2'])]"
      ]
     },
     "execution_count": 100,
     "metadata": {},
     "output_type": "execute_result"
    }
   ],
   "source": [
    "from typing import Iterator\n",
    "\n",
    "d1 = \"it is what it is\"\n",
    "d2 = \"what is it\"\n",
    "d3 = \"it is a banana\"\n",
    "documents = [d1, d2, d3]\n",
    "\n",
    "def RECORDREADER():\n",
    "  for (docid, document) in enumerate(documents):\n",
    "    yield (\"{}\".format(docid), document)\n",
    "      \n",
    "def MAP(docId:str, body:str):\n",
    "  for word in set(body.split(' ')):\n",
    "    yield (word, docId)\n",
    " \n",
    "def REDUCE(word:str, docIds:Iterator[str]):\n",
    "  yield (word, sorted(docIds))\n",
    "\n",
    "output = MapReduce(RECORDREADER, MAP, REDUCE)\n",
    "output = list(output)\n",
    "output"
   ]
  },
  {
   "cell_type": "markdown",
   "metadata": {
    "id": "R7az-6DA6qr2"
   },
   "source": [
    "## WordCount"
   ]
  },
  {
   "cell_type": "code",
   "execution_count": 101,
   "metadata": {
    "colab": {
     "base_uri": "https://localhost:8080/",
     "height": 34
    },
    "id": "dN-nbtgG6uYG",
    "outputId": "24117576-7931-401d-a581-28e246b23453"
   },
   "outputs": [
    {
     "data": {
      "text/plain": [
       "[('', 3), ('it', 9), ('is', 9), ('what', 5), ('a', 1), ('banana', 1)]"
      ]
     },
     "execution_count": 101,
     "metadata": {},
     "output_type": "execute_result"
    }
   ],
   "source": [
    "from typing import Iterator\n",
    "\n",
    "d1 = \"\"\"\n",
    "it is what it is\n",
    "it is what it is\n",
    "it is what it is\"\"\"\n",
    "d2 = \"\"\"\n",
    "what is it\n",
    "what is it\"\"\"\n",
    "d3 = \"\"\"\n",
    "it is a banana\"\"\"\n",
    "documents = [d1, d2, d3]\n",
    "\n",
    "def RECORDREADER():\n",
    "  for (docid, document) in enumerate(documents):\n",
    "    for (lineid, line) in enumerate(document.split('\\n')):\n",
    "      yield (\"{}:{}\".format(docid,lineid), line)\n",
    "\n",
    "def MAP(docId:str, line:str):\n",
    "  for word in line.split(\" \"):  \n",
    "    yield (word, 1)\n",
    " \n",
    "def REDUCE(word:str, counts:Iterator[int]):\n",
    "  sum = 0\n",
    "  for c in counts:\n",
    "    sum += c\n",
    "  yield (word, sum)\n",
    "\n",
    "output = MapReduce(RECORDREADER, MAP, REDUCE)\n",
    "output = list(output)\n",
    "output"
   ]
  },
  {
   "cell_type": "markdown",
   "metadata": {
    "id": "h-jRAcYCAkkk"
   },
   "source": [
    "# MapReduce Distributed\n",
    "\n",
    "Добавляется в модель фабрика RECORDREARER-ов --- INPUTFORMAT, функция распределения промежуточных результатов по партициям PARTITIONER, и функция COMBINER для частичной аггрегации промежуточных результатов до распределения по новым партициям."
   ]
  },
  {
   "cell_type": "code",
   "execution_count": 102,
   "metadata": {
    "id": "nw-b-xJsApgW"
   },
   "outputs": [],
   "source": [
    "def flatten(nested_iterable):\n",
    "  for iterable in nested_iterable:\n",
    "    for element in iterable:\n",
    "      yield element\n",
    "\n",
    "def groupbykey(iterable):\n",
    "  t = {}\n",
    "  for (k2, v2) in iterable:\n",
    "    t[k2] = t.get(k2, []) + [v2]\n",
    "  return t.items()\n",
    "      \n",
    "def groupbykey_distributed(map_partitions, PARTITIONER):\n",
    "  global reducers\n",
    "  partitions = [dict() for _ in range(reducers)]\n",
    "  for map_partition in map_partitions:\n",
    "    for (k2, v2) in map_partition:\n",
    "      p = partitions[PARTITIONER(k2)]\n",
    "      p[k2] = p.get(k2, []) + [v2]\n",
    "  return [(partition_id, sorted(partition.items(), key=lambda x: x[0])) for (partition_id, partition) in enumerate(partitions)]\n",
    " \n",
    "def PARTITIONER(obj):\n",
    "  global reducers\n",
    "  return hash(obj) % reducers\n",
    "  \n",
    "def MapReduceDistributed(INPUTFORMAT, MAP, REDUCE, PARTITIONER=PARTITIONER, COMBINER=None):\n",
    "  map_partitions = map(lambda record_reader: flatten(map(lambda k1v1: MAP(*k1v1), record_reader)), INPUTFORMAT())\n",
    "  if COMBINER != None:\n",
    "    map_partitions = map(lambda map_partition: flatten(map(lambda k2v2: COMBINER(*k2v2), groupbykey(map_partition))), map_partitions)\n",
    "  reduce_partitions = groupbykey_distributed(map_partitions, PARTITIONER) # shuffle\n",
    "  reduce_outputs = map(lambda reduce_partition: (reduce_partition[0], flatten(map(lambda reduce_input_group: REDUCE(*reduce_input_group), reduce_partition[1]))), reduce_partitions)\n",
    "  \n",
    "  print(\"{} key-value pairs were sent over a network.\".format(sum([len(vs) for (k,vs) in flatten([partition for (partition_id, partition) in reduce_partitions])])))\n",
    "  return reduce_outputs"
   ]
  },
  {
   "cell_type": "markdown",
   "metadata": {
    "id": "kxirlf3XqZxY"
   },
   "source": [
    "## Спецификация MapReduce Distributed\n",
    "\n",
    "\n",
    "```\n",
    "f (k1, v1) -> (k2,v2)*\n",
    "g (k2, v2*) -> (k3,v3)*\n",
    " \n",
    "e1 (k1, v1)\n",
    "e2 (k2, v2)\n",
    "partition1 (k2, v2)*\n",
    "partition2 (k2, v2*)*\n",
    " \n",
    "flatmap (e1->e2*, e1*) -> partition1*\n",
    "groupby (partition1*) -> partition2*\n",
    "\n",
    "mapreduce ((k1,v1)*) -> (k3,v3)*\n",
    "mapreduce .flatmap(f).groupby(k2).flatmap(g)\n",
    "```\n",
    "\n"
   ]
  },
  {
   "cell_type": "markdown",
   "metadata": {
    "id": "CWYw_CpbbY3C"
   },
   "source": [
    "## WordCount "
   ]
  },
  {
   "cell_type": "code",
   "execution_count": 103,
   "metadata": {
    "colab": {
     "base_uri": "https://localhost:8080/",
     "height": 68
    },
    "id": "uR_zfGFkMZlp",
    "outputId": "c8d46167-473d-43b9-881a-2396991b3731"
   },
   "outputs": [
    {
     "name": "stdout",
     "output_type": "stream",
     "text": [
      "56 key-value pairs were sent over a network.\n"
     ]
    },
    {
     "data": {
      "text/plain": [
       "[(0, [('', 6), ('is', 18)]),\n",
       " (1, [('a', 2), ('banana', 2), ('it', 18), ('what', 10)])]"
      ]
     },
     "execution_count": 103,
     "metadata": {},
     "output_type": "execute_result"
    }
   ],
   "source": [
    "from typing import Iterator\n",
    "import numpy as np\n",
    "\n",
    "d1 = \"\"\"\n",
    "it is what it is\n",
    "it is what it is\n",
    "it is what it is\"\"\"\n",
    "d2 = \"\"\"\n",
    "what is it\n",
    "what is it\"\"\"\n",
    "d3 = \"\"\"\n",
    "it is a banana\"\"\"\n",
    "documents = [d1, d2, d3, d1, d2, d3]\n",
    "\n",
    "maps = 3\n",
    "reducers = 2\n",
    "\n",
    "def INPUTFORMAT():\n",
    "  global maps\n",
    "  \n",
    "  def RECORDREADER(split):\n",
    "    for (docid, document) in enumerate(split):\n",
    "      for (lineid, line) in enumerate(document.split('\\n')):\n",
    "        yield (\"{}:{}\".format(docid,lineid), line)\n",
    "      \n",
    "  split_size =  int(np.ceil(len(documents)/maps))\n",
    "  for i in range(0, len(documents), split_size):\n",
    "    yield RECORDREADER(documents[i:i+split_size])\n",
    "\n",
    "def MAP(docId:str, line:str):\n",
    "  for word in line.split(\" \"):  \n",
    "    yield (word, 1)\n",
    " \n",
    "def REDUCE(word:str, counts:Iterator[int]):\n",
    "  sum = 0\n",
    "  for c in counts:\n",
    "    sum += c\n",
    "  yield (word, sum)\n",
    "  \n",
    "# try to set COMBINER=REDUCER and look at the number of values sent over the network \n",
    "partitioned_output = MapReduceDistributed(INPUTFORMAT, MAP, REDUCE, COMBINER=None) \n",
    "partitioned_output = [(partition_id, list(partition)) for (partition_id, partition) in partitioned_output]\n",
    "partitioned_output"
   ]
  },
  {
   "cell_type": "markdown",
   "metadata": {
    "id": "gCJGx8IQ87xS"
   },
   "source": [
    "## TeraSort"
   ]
  },
  {
   "cell_type": "code",
   "execution_count": 104,
   "metadata": {
    "colab": {
     "base_uri": "https://localhost:8080/",
     "height": 578
    },
    "id": "P2v8v1v_8_YR",
    "outputId": "e0987c25-9757-46cb-8e55-d5d2adfbee2b"
   },
   "outputs": [
    {
     "name": "stdout",
     "output_type": "stream",
     "text": [
      "30 key-value pairs were sent over a network.\n"
     ]
    },
    {
     "data": {
      "text/plain": [
       "[(0,\n",
       "  [(None, 0.01778555881234578),\n",
       "   (None, 0.039306310570093594),\n",
       "   (None, 0.06935548968517402),\n",
       "   (None, 0.07977071532624014),\n",
       "   (None, 0.08273086479111746),\n",
       "   (None, 0.08559262684360114),\n",
       "   (None, 0.15813057492290938),\n",
       "   (None, 0.22893793936287776),\n",
       "   (None, 0.31194263336534833),\n",
       "   (None, 0.3355474508232368),\n",
       "   (None, 0.39774940113434576),\n",
       "   (None, 0.40471350621305135),\n",
       "   (None, 0.4143912011658817),\n",
       "   (None, 0.4518120678895289),\n",
       "   (None, 0.4630234357722779)]),\n",
       " (1,\n",
       "  [(None, 0.6165816777092237),\n",
       "   (None, 0.6336644297452622),\n",
       "   (None, 0.7227116710832118),\n",
       "   (None, 0.7284485033729011),\n",
       "   (None, 0.7371009374997344),\n",
       "   (None, 0.7454667694632627),\n",
       "   (None, 0.7645594784876816),\n",
       "   (None, 0.8275532841266855),\n",
       "   (None, 0.8309710750114676),\n",
       "   (None, 0.8616578041370991),\n",
       "   (None, 0.9115279857103239),\n",
       "   (None, 0.9246149050702891),\n",
       "   (None, 0.9248260544536382),\n",
       "   (None, 0.9346389861786729),\n",
       "   (None, 0.9399259488108899)])]"
      ]
     },
     "execution_count": 104,
     "metadata": {},
     "output_type": "execute_result"
    }
   ],
   "source": [
    "import numpy as np\n",
    "\n",
    "input_values = np.random.rand(30)\n",
    "maps = 3\n",
    "reducers = 2\n",
    "min_value = 0.0\n",
    "max_value = 1.0\n",
    "\n",
    "def INPUTFORMAT():\n",
    "  global maps\n",
    "  \n",
    "  def RECORDREADER(split):\n",
    "    for value in split:\n",
    "        yield (value, None)\n",
    "      \n",
    "  split_size =  int(np.ceil(len(input_values)/maps))\n",
    "  for i in range(0, len(input_values), split_size):\n",
    "    yield RECORDREADER(input_values[i:i+split_size])\n",
    "    \n",
    "def MAP(value:int, _):\n",
    "  yield (value, None)\n",
    "  \n",
    "def PARTITIONER(key):\n",
    "  global reducers\n",
    "  global max_value\n",
    "  global min_value\n",
    "  bucket_size = (max_value-min_value)/reducers\n",
    "  bucket_id = 0\n",
    "  while((key>(bucket_id+1)*bucket_size) and ((bucket_id+1)*bucket_size<max_value)):\n",
    "    bucket_id += 1\n",
    "  return bucket_id\n",
    "\n",
    "def REDUCE(value:int, _):\n",
    "  yield (None,value)\n",
    "  \n",
    "partitioned_output = MapReduceDistributed(INPUTFORMAT, MAP, REDUCE, COMBINER=None, PARTITIONER=PARTITIONER)\n",
    "partitioned_output = [(partition_id, list(partition)) for (partition_id, partition) in partitioned_output]\n",
    "partitioned_output"
   ]
  },
  {
   "cell_type": "code",
   "execution_count": null,
   "metadata": {
    "id": "MQhoJaVZI93G"
   },
   "outputs": [],
   "source": []
  },
  {
   "cell_type": "markdown",
   "metadata": {
    "id": "Iy65YJTH99iT"
   },
   "source": [
    "# Упражнения\n",
    "Упражнения взяты из Rajaraman A., Ullman J. D. Mining of massive datasets. – Cambridge University Press, 2011.\n",
    "\n",
    "\n",
    "Для выполнения заданий переопределите функции RECORDREADER, MAP, REDUCE. Для модели распределённой системы может потребоваться переопределение функций PARTITION и COMBINER."
   ]
  },
  {
   "cell_type": "markdown",
   "metadata": {
    "id": "cfvAeZm3S8S8"
   },
   "source": [
    "### Максимальное значение ряда\n",
    "\n",
    "Разработайте MapReduce алгоритм, который находит максимальное число входного списка чисел."
   ]
  },
  {
   "cell_type": "code",
   "execution_count": 105,
   "metadata": {
    "id": "3GRA1JR-Tkbg"
   },
   "outputs": [
    {
     "name": "stdout",
     "output_type": "stream",
     "text": [
      "Максимальное число: 100\n"
     ]
    }
   ],
   "source": [
    "def record_reader(data):\n",
    "    for record in data:\n",
    "        yield record\n",
    "\n",
    "def map_function(number):\n",
    "    return [(\"max\", number)]\n",
    "\n",
    "def reduce_function(key, values):\n",
    "    return max(values)\n",
    "\n",
    "def map_reduce_max(input_data):\n",
    "    mapped_data = []\n",
    "    for record in record_reader(input_data):\n",
    "        mapped_data.extend(map_function(record))\n",
    "\n",
    "    reduced_data = {}\n",
    "    for key, value in mapped_data:\n",
    "        reduced_data.setdefault(key, []).append(value)\n",
    "\n",
    "    max_number = reduce_function(\"max\", reduced_data[\"max\"])\n",
    "    return max_number\n",
    "\n",
    "input_data = [10, 5, 7, 20, 100, 25]\n",
    "result = map_reduce_max(input_data)\n",
    "print(\"Максимальное число:\", result)"
   ]
  },
  {
   "cell_type": "markdown",
   "metadata": {
    "id": "k86bXnqZTk-U"
   },
   "source": [
    "### Арифметическое среднее\n",
    "\n",
    "Разработайте MapReduce алгоритм, который находит арифметическое среднее.\n",
    "\n",
    "$$\\overline{X} = \\frac{1}{n}\\sum_{i=0}^{n} x_i$$\n"
   ]
  },
  {
   "cell_type": "code",
   "execution_count": 106,
   "metadata": {
    "id": "MPoY5pkfUNZf"
   },
   "outputs": [
    {
     "name": "stdout",
     "output_type": "stream",
     "text": [
      "Арифметическое среднее чисел: 27.833333333333332\n"
     ]
    }
   ],
   "source": [
    "def record_reader(data):\n",
    "    for record in data:\n",
    "        yield record\n",
    "\n",
    "def map_function(number):\n",
    "    return [(\"sum_and_count\", (number, 1))]\n",
    "\n",
    "def reduce_function(key, values):\n",
    "    total_sum = 0\n",
    "    total_count = 0\n",
    "    for value in values:\n",
    "        total_sum += value[0]\n",
    "        total_count += value[1]\n",
    "    mean_value = total_sum / total_count if total_count else 0\n",
    "    return mean_value\n",
    "\n",
    "def map_reduce_mean(input_data):\n",
    "    mapped_data = []\n",
    "    for record in record_reader(input_data):\n",
    "        mapped_data.extend(map_function(record))\n",
    "\n",
    "    reduced_data = {}\n",
    "    for key, value in mapped_data:\n",
    "        reduced_data.setdefault(key, []).append(value)\n",
    "\n",
    "    mean_number = reduce_function(\"sum_and_count\", reduced_data[\"sum_and_count\"])\n",
    "    return mean_number\n",
    "\n",
    "input_data = [10, 5, 7, 20, 100, 25]\n",
    "\n",
    "result = map_reduce_mean(input_data)\n",
    "print(\"Арифметическое среднее чисел:\", result)"
   ]
  },
  {
   "cell_type": "markdown",
   "metadata": {
    "id": "xanzszhsIlLe"
   },
   "source": [
    "### GroupByKey на основе сортировки\n",
    "\n",
    "Реализуйте groupByKey на основе сортировки, проверьте его работу на примерах"
   ]
  },
  {
   "cell_type": "code",
   "execution_count": 107,
   "metadata": {
    "id": "hQPn3USsIkEC"
   },
   "outputs": [
    {
     "data": {
      "text/plain": [
       "{'apple': [1, 3, 5], 'banana': [2, 4]}"
      ]
     },
     "execution_count": 107,
     "metadata": {},
     "output_type": "execute_result"
    }
   ],
   "source": [
    "def record_reader(data):\n",
    "    for record in data:\n",
    "        yield record\n",
    "\n",
    "def map_function(record):\n",
    "    return record\n",
    "\n",
    "def sort_and_group(mapped_data):\n",
    "    sorted_data = sorted(mapped_data, key=lambda x: x[0])\n",
    "    grouped_data = {}\n",
    "    for key, value in sorted_data:\n",
    "        if key in grouped_data:\n",
    "            grouped_data[key].append(value)\n",
    "        else:\n",
    "            grouped_data[key] = [value]\n",
    "    return grouped_data\n",
    "\n",
    "def map_reduce_group_by_key(input_data):\n",
    "    mapped_data = []\n",
    "    for record in record_reader(input_data):\n",
    "        mapped_data.append(map_function(record))\n",
    "\n",
    "    grouped_data = sort_and_group(mapped_data)\n",
    "\n",
    "    return grouped_data\n",
    "\n",
    "input_data = [(\"apple\", 1), (\"banana\", 2), (\"apple\", 3), (\"banana\", 4), (\"apple\", 5)]\n",
    "\n",
    "result = map_reduce_group_by_key(input_data)\n",
    "result\n"
   ]
  },
  {
   "cell_type": "markdown",
   "metadata": {
    "id": "5SgEjCZyGnu6"
   },
   "source": [
    "### Drop duplicates (set construction, unique elements, distinct)\n",
    "\n",
    "Реализуйте распределённую операцию исключения дубликатов"
   ]
  },
  {
   "cell_type": "code",
   "execution_count": 108,
   "metadata": {
    "id": "okjbyApjGhMt"
   },
   "outputs": [
    {
     "data": {
      "text/plain": [
       "[1, 2, 3, 4, 5, 6]"
      ]
     },
     "execution_count": 108,
     "metadata": {},
     "output_type": "execute_result"
    }
   ],
   "source": [
    "def map_function(value):\n",
    "    return [(value, None)]\n",
    "\n",
    "def reduce_function(key, _):\n",
    "    return key\n",
    "\n",
    "def map_reduce_distinct(input_data):\n",
    "    mapped_data = []\n",
    "    for value in input_data:\n",
    "        mapped_data.extend(map_function(value))\n",
    "\n",
    "    sorted_mapped_data = sorted(mapped_data, key=lambda x: x[0])\n",
    "    grouped_data = {}\n",
    "    for key, _ in sorted_mapped_data:\n",
    "        grouped_data.setdefault(key, None)\n",
    "\n",
    "    distinct_data = [reduce_function(key, _) for key in grouped_data]\n",
    "    return distinct_data\n",
    "\n",
    "input_data = [1, 2, 3, 2, 3, 4, 5, 5, 6, 1]\n",
    "\n",
    "result = map_reduce_distinct(input_data)\n",
    "result"
   ]
  },
  {
   "cell_type": "markdown",
   "metadata": {
    "id": "e7sRGoTXuJze"
   },
   "source": [
    "#Операторы реляционной алгебры\n",
    "### Selection (Выборка)\n",
    "\n",
    "**The Map Function**: Для  каждого кортежа $t \\in R$ вычисляется истинность предиката $C$. В случае истины создаётся пара ключ-значение $(t, t)$. В паре ключ и значение одинаковы, равны $t$.\n",
    "\n",
    "**The Reduce Function:** Роль функции Reduce выполняет функция идентичности, которая возвращает то же значение, что получила на вход.\n",
    "\n"
   ]
  },
  {
   "cell_type": "code",
   "execution_count": 109,
   "metadata": {
    "id": "4nKIKe59uIfc"
   },
   "outputs": [
    {
     "data": {
      "text/plain": [
       "[(User(id=1, age=25, social_contacts=240, gender='female'),\n",
       "  [User(id=1, age=25, social_contacts=240, gender='female')]),\n",
       " (User(id=2, age=25, social_contacts=500, gender='female'),\n",
       "  [User(id=2, age=25, social_contacts=500, gender='female')])]"
      ]
     },
     "execution_count": 109,
     "metadata": {},
     "output_type": "execute_result"
    }
   ],
   "source": [
    "def MAP_SELECT(_, row: NamedTuple):\n",
    "    if row.age == 25:\n",
    "        yield (row, row)\n",
    "\n",
    "\n",
    "def REDUCE_SELECT(row: str, rows: Iterator[NamedTuple]):\n",
    "    yield (row, rows)\n",
    "\n",
    "\n",
    "def RECORDREADER():\n",
    "    return [(u.id, u) for u in input_collection]\n",
    "\n",
    "\n",
    "output = MapReduce(RECORDREADER, MAP_SELECT, REDUCE_SELECT)\n",
    "output = list(output)\n",
    "output"
   ]
  },
  {
   "cell_type": "markdown",
   "metadata": {
    "id": "w27Ca-_Ku85V"
   },
   "source": [
    "### Projection (Проекция)\n",
    "\n",
    "Проекция на множество атрибутов $S$.\n",
    "\n",
    "**The Map Function:** Для каждого кортежа $t \\in R$ создайте кортеж $t′$, исключая  из $t$ те значения, атрибуты которых не принадлежат  $S$. Верните пару $(t′, t′)$.\n",
    "\n",
    "**The Reduce Function:** Для каждого ключа $t′$, созданного любой Map задачей, вы получаете одну или несколько пар $(t′, t′)$. Reduce функция преобразует $(t′, [t′, t′, . . . , t′])$ в $(t′, t′)$, так, что для ключа $t′$ возвращается одна пара  $(t′, t′)$."
   ]
  },
  {
   "cell_type": "code",
   "execution_count": 110,
   "metadata": {
    "id": "BEvuY4GqvhS6"
   },
   "outputs": [
    {
     "data": {
      "text/plain": [
       "[(0,\n",
       "  [{'id': 0, 'age': 54, 'gender': 'male', 'social_contacts': 20},\n",
       "   {'id': 0, 'age': 25, 'gender': 'female', 'social_contacts': 240}]),\n",
       " (1, [{'id': 1, 'age': 27, 'social_contacts': 642}]),\n",
       " (2,\n",
       "  [{'id': 2, 'age': 16, 'gender': 'male', 'social_contacts': 123},\n",
       "   {'id': 2, 'age': 35, 'social_contacts': 247}]),\n",
       " (3,\n",
       "  [{'id': 3, 'age': 31, 'gender': 'male', 'social_contacts': 521},\n",
       "   {'id': 3, 'age': 32, 'gender': 'female', 'social_contacts': 753}])]"
      ]
     },
     "execution_count": 110,
     "metadata": {},
     "output_type": "execute_result"
    }
   ],
   "source": [
    "input_collection_2 = [\n",
    "    dict(id=0, age=54, gender=\"male\", social_contacts=20),\n",
    "    dict(id=0, age=25, gender=\"female\", social_contacts=240),\n",
    "    dict(id=1, age=27, gender=\"undefined\", social_contacts=642),\n",
    "    dict(id=2, age=16, gender=\"male\", social_contacts=123),\n",
    "    dict(id=2, age=35, gender=\"undefined\", social_contacts=247),\n",
    "    dict(id=3, age=31, gender=\"male\", social_contacts=521),\n",
    "    dict(id=3, age=32, gender=\"female\", social_contacts=753),\n",
    "]\n",
    "\n",
    "def MAP_PROJECTION(_, row: dict):\n",
    "    S = [\"male\", \"female\"]\n",
    "    if row[\"gender\"] in S:\n",
    "        yield (row[\"id\"], row)\n",
    "    else:\n",
    "        modified_row = row.copy()\n",
    "        del modified_row[\"gender\"]\n",
    "        yield (modified_row[\"id\"], modified_row)\n",
    "\n",
    "\n",
    "def REDUCE_PROJECTION(row: str, rows: Iterator[NamedTuple]):\n",
    "    yield (row, rows)\n",
    "\n",
    "\n",
    "def RECORDREADER():\n",
    "    return [(u[\"id\"], u) for u in input_collection_2]\n",
    "\n",
    "\n",
    "output = MapReduce(RECORDREADER, MAP_PROJECTION, REDUCE_PROJECTION)\n",
    "output = list(output)\n",
    "output"
   ]
  },
  {
   "cell_type": "markdown",
   "metadata": {
    "id": "7gau6lKXvn2R"
   },
   "source": [
    "### Union (Объединение)\n",
    "\n",
    "**The Map Function:** Превратите каждый входной кортеж $t$ в пару ключ-значение $(t, t)$.\n",
    "\n",
    "**The Reduce Function:** С каждым ключом $t$ будет ассоциировано одно или два значений. В обоих случаях создайте $(t, t)$ в качестве выходного значения."
   ]
  },
  {
   "cell_type": "code",
   "execution_count": 111,
   "metadata": {
    "id": "Sns7a5agv3nw"
   },
   "outputs": [
    {
     "data": {
      "text/plain": [
       "[(User(id=0, age=55, social_contacts=20, gender='male'),\n",
       "  User(id=0, age=55, social_contacts=20, gender='male')),\n",
       " (User(id=1, age=25, social_contacts=240, gender='female'),\n",
       "  User(id=1, age=25, social_contacts=240, gender='female')),\n",
       " (User(id=2, age=25, social_contacts=500, gender='female'),\n",
       "  User(id=2, age=25, social_contacts=500, gender='female')),\n",
       " (User(id=3, age=33, social_contacts=800, gender='female'),\n",
       "  User(id=3, age=33, social_contacts=800, gender='female')),\n",
       " (User(id=5, age=27, social_contacts=642, gender='female'),\n",
       "  User(id=5, age=27, social_contacts=642, gender='female')),\n",
       " (User(id=6, age=16, social_contacts=123, gender='male'),\n",
       "  User(id=6, age=16, social_contacts=123, gender='male')),\n",
       " (User(id=7, age=32, social_contacts=753, gender='female'),\n",
       "  User(id=7, age=32, social_contacts=753, gender='female'))]"
      ]
     },
     "execution_count": 111,
     "metadata": {},
     "output_type": "execute_result"
    }
   ],
   "source": [
    "input_collection_2 = [\n",
    "    User(id=3, age=33, gender='female', social_contacts=800),\n",
    "    User(id=5, age=27, gender=\"female\", social_contacts=642),\n",
    "    User(id=6, age=16, gender=\"male\", social_contacts=123),\n",
    "    User(id=7, age=32, gender=\"female\", social_contacts=753),\n",
    "]\n",
    "\n",
    "def MAP_UNION(_, row: NamedTuple):\n",
    "    yield (row.id, row)\n",
    "\n",
    "\n",
    "def REDUCE_UNION(row: str, rows: Iterator[NamedTuple]):\n",
    "    yield (rows[0], rows[0])\n",
    "\n",
    "\n",
    "def RECORDREADER():\n",
    "    return [(u.id, u) for u in input_collection + input_collection_2]\n",
    "\n",
    "\n",
    "output = MapReduce(RECORDREADER, MAP_UNION, REDUCE_UNION)\n",
    "output = list(output)\n",
    "output"
   ]
  },
  {
   "cell_type": "markdown",
   "metadata": {
    "id": "dQ8TuEbjv4J8"
   },
   "source": [
    "### Intersection (Пересечение)\n",
    "\n",
    "**The Map Function:** Превратите каждый кортеж $t$ в пары ключ-значение $(t, t)$.\n",
    "\n",
    "**The Reduce Function:** Если для ключа $t$ есть список из двух элементов $[t, t]$ $-$ создайте пару $(t, t)$. Иначе, ничего не создавайте."
   ]
  },
  {
   "cell_type": "code",
   "execution_count": 112,
   "metadata": {
    "id": "XKlBZh4IwERR"
   },
   "outputs": [
    {
     "data": {
      "text/plain": [
       "[[User(id=3, age=33, social_contacts=800, gender='female'),\n",
       "  User(id=3, age=33, social_contacts=800, gender='female')]]"
      ]
     },
     "execution_count": 112,
     "metadata": {},
     "output_type": "execute_result"
    }
   ],
   "source": [
    "def MAP_INTERSECTION(_, row: NamedTuple):\n",
    "    yield (row.id, row)\n",
    "\n",
    "\n",
    "def REDUCE_INTERSECTION(row_id: int, rows: Iterator[NamedTuple]):\n",
    "    if len(rows) == 2:\n",
    "        yield rows\n",
    "\n",
    "\n",
    "def RECORDREADER():\n",
    "    return [(u.id, u) for u in input_collection + input_collection_2]\n",
    "\n",
    "\n",
    "output = MapReduce(RECORDREADER, MAP_INTERSECTION, REDUCE_INTERSECTION)\n",
    "output = list(output)\n",
    "output"
   ]
  },
  {
   "cell_type": "markdown",
   "metadata": {
    "id": "AVOpqoY3wE5k"
   },
   "source": [
    "### Difference (Разница)\n",
    "\n",
    "**The Map Function:** Для кортежа $t \\in R$, создайте пару $(t, R)$, и для кортежа $t \\in S$, создайте пару $(t, S)$. Задумка заключается в том, чтобы значение пары было именем отношения $R$ or $S$, которому принадлежит кортеж (а лучше, единичный бит, по которому можно два отношения различить $R$ or $S$), а не весь набор атрибутов отношения.\n",
    "\n",
    "**The Reduce Function:** Для каждого ключа $t$, если соответствующее значение является списком $[R]$, создайте пару $(t, t)$. В иных случаях не предпринимайте действий."
   ]
  },
  {
   "cell_type": "code",
   "execution_count": 113,
   "metadata": {
    "id": "QE_AC09lwZIZ"
   },
   "outputs": [
    {
     "data": {
      "text/plain": [
       "[User(id=0, age=55, social_contacts=20, gender='male'),\n",
       " User(id=1, age=25, social_contacts=240, gender='female'),\n",
       " User(id=2, age=25, social_contacts=500, gender='female')]"
      ]
     },
     "execution_count": 113,
     "metadata": {},
     "output_type": "execute_result"
    }
   ],
   "source": [
    "def MAP_DIFFERENCE(collection_id, user):\n",
    "    yield (user, collection_id)\n",
    "\n",
    "\n",
    "def REDUCE_DIFFERENCE(user, collections):\n",
    "    if collections == [0]:\n",
    "        yield (user)\n",
    "\n",
    "\n",
    "def RECORDREADER():\n",
    "    return [(0, a) for a in input_collection] + [(1, b) for b in input_collection_2]\n",
    "\n",
    "\n",
    "output = MapReduce(RECORDREADER, MAP_DIFFERENCE, REDUCE_DIFFERENCE)\n",
    "output = list(output)\n",
    "output\n",
    "     "
   ]
  },
  {
   "cell_type": "markdown",
   "metadata": {
    "id": "j8I58V2VwhSm"
   },
   "source": [
    "### Natural Join\n",
    "\n",
    "**The Map Function:** Для каждого кортежа $(a, b)$ отношения $R$, создайте пару $(b,(R, a))$. Для каждого кортежа $(b, c)$ отношения $S$, создайте пару $(b,(S, c))$.\n",
    "\n",
    "**The Reduce Function:** Каждый ключ $b$ будет асоциирован со списком пар, которые принимают форму либо $(R, a)$, либо $(S, c)$. Создайте все пары, одни, состоящие из  первого компонента $R$, а другие, из первого компонента $S$, то есть $(R, a)$ и $(S, c)$. На выходе вы получаете последовательность пар ключ-значение из списков ключей и значений. Ключ не нужен. Каждое значение, это тройка $(a, b, c)$ такая, что $(R, a)$ и $(S, c)$ это принадлежат входному списку значений."
   ]
  },
  {
   "cell_type": "code",
   "execution_count": 114,
   "metadata": {
    "id": "yHiuuTctw86I"
   },
   "outputs": [
    {
     "data": {
      "text/plain": [
       "[(User(id=1, age=54, social_contacts=20, gender='male', city_id=1),\n",
       "  1,\n",
       "  City(id=1, name='Samara')),\n",
       " (User(id=2, age=25, social_contacts=240, gender='female', city_id=2),\n",
       "  2,\n",
       "  City(id=2, name='Moscow')),\n",
       " (User(id=3, age=27, social_contacts=642, gender='male', city_id=2),\n",
       "  2,\n",
       "  City(id=2, name='Moscow')),\n",
       " (User(id=4, age=16, social_contacts=123, gender='male', city_id=3),\n",
       "  3,\n",
       "  City(id=3, name='Omsk')),\n",
       " (User(id=5, age=35, social_contacts=247, gender='female', city_id=4),\n",
       "  4,\n",
       "  City(id=4, name='Tomks'))]"
      ]
     },
     "execution_count": 114,
     "metadata": {},
     "output_type": "execute_result"
    }
   ],
   "source": [
    "class User(NamedTuple):\n",
    "    id: int\n",
    "    age: str\n",
    "    social_contacts: int\n",
    "    gender: str\n",
    "    city_id: int\n",
    "\n",
    "\n",
    "users_collection = [\n",
    "    User(id=1, age=54, gender=\"male\", social_contacts=20, city_id=1),\n",
    "    User(id=2, age=25, gender=\"female\", social_contacts=240, city_id=2),\n",
    "    User(id=3, age=27, gender=\"male\", social_contacts=642, city_id=2),\n",
    "    User(id=4, age=16, gender=\"male\", social_contacts=123, city_id=3),\n",
    "    User(id=5, age=35, gender=\"female\", social_contacts=247, city_id=4),\n",
    "]\n",
    "\n",
    "\n",
    "class City(NamedTuple):\n",
    "    id: int\n",
    "    name: str\n",
    "\n",
    "\n",
    "cities_collection = [\n",
    "    City(id=1, name=\"Samara\"),\n",
    "    City(id=2, name=\"Moscow\"),\n",
    "    City(id=3, name=\"Omsk\"),\n",
    "    City(id=4, name=\"Tomks\"),\n",
    "    City(id=5, name=\"Belgorod\"),\n",
    "]\n",
    "     \n",
    "\n",
    "def MAP_JOIN(city_id, row):\n",
    "    yield (city_id, row)\n",
    "\n",
    "\n",
    "def REDUCE_JOIN(city_id, rows):\n",
    "    users = []\n",
    "    city = None\n",
    "\n",
    "    for row in rows:\n",
    "        if type(row) is User:\n",
    "            users += [row]\n",
    "        else:\n",
    "            city = row\n",
    "\n",
    "    for row in rows:\n",
    "        if type(row) is User:\n",
    "            yield (row, row.city_id, city)\n",
    "\n",
    "\n",
    "def RECORDREADER():\n",
    "    return [(user.city_id, user) for user in users_collection] + [\n",
    "        (city.id, city) for city in cities_collection\n",
    "    ]\n",
    "\n",
    "\n",
    "output = MapReduce(RECORDREADER, MAP_JOIN, REDUCE_JOIN)\n",
    "output = list(output)\n",
    "joined_data = output\n",
    "joined_data"
   ]
  },
  {
   "cell_type": "markdown",
   "metadata": {
    "id": "kYdlr0YUxE27"
   },
   "source": [
    "### Grouping and Aggregation (Группировка и аггрегация)\n",
    "\n",
    "**The Map Function:** Для каждого кортежа $(a, b, c$) создайте пару $(a, b)$.\n",
    "\n",
    "**The Reduce Function:** Ключ представляет ту или иную группу. Примение аггрегирующую операцию $\\theta$ к списку значений $[b1, b2, . . . , bn]$ ассоциированных с ключом $a$. Возвращайте в выходной поток $(a, x)$, где $x$ результат применения  $\\theta$ к списку. Например, если $\\theta$ это $SUM$, тогда $x = b1 + b2 + · · · + bn$, а если $\\theta$ is $MAX$, тогда $x$ это максимальное из значений $b1, b2, . . . , bn$."
   ]
  },
  {
   "cell_type": "code",
   "execution_count": 115,
   "metadata": {
    "id": "MLPckfEGxico"
   },
   "outputs": [
    {
     "data": {
      "text/plain": [
       "['city with id=1 has 1 user(s)',\n",
       " 'city with id=2 has 2 user(s)',\n",
       " 'city with id=3 has 1 user(s)',\n",
       " 'city with id=4 has 1 user(s)']"
      ]
     },
     "execution_count": 115,
     "metadata": {},
     "output_type": "execute_result"
    }
   ],
   "source": [
    "def MAP_GROUP(city_id, user, city):\n",
    "    yield (city_id, user)\n",
    "\n",
    "\n",
    "def REDUCE_GROUP(city_id, rows):\n",
    "    yield f\"city with id={city_id} has {len(rows)} user(s)\"\n",
    "\n",
    "\n",
    "def RECORDREADER():\n",
    "    return [(city_id, user, city) for user, city_id, city in joined_data]\n",
    "\n",
    "\n",
    "output = MapReduce(RECORDREADER, MAP_GROUP, REDUCE_GROUP)\n",
    "output = list(output)\n",
    "output"
   ]
  },
  {
   "cell_type": "markdown",
   "metadata": {
    "id": "03IffTEOJgOb"
   },
   "source": [
    "# "
   ]
  },
  {
   "cell_type": "markdown",
   "metadata": {
    "id": "IIrRgvG4RIS4"
   },
   "source": [
    "### Matrix-Vector multiplication\n",
    "\n",
    "Случай, когда вектор не помещается в памяти Map задачи\n"
   ]
  },
  {
   "cell_type": "code",
   "execution_count": null,
   "metadata": {
    "id": "KQhDbiL3zS9r"
   },
   "outputs": [],
   "source": []
  },
  {
   "cell_type": "markdown",
   "metadata": {
    "id": "GIo2t7nNxvA9"
   },
   "source": [
    "## Matrix multiplication (Перемножение матриц)\n",
    "\n",
    "Если у нас есть матрица $M$ с элементами $m_{ij}$ в строке $i$ и столбце $j$, и матрица $N$ с элементами $n_{jk}$ в строке $j$ и столбце $k$, тогда их произведение $P = MN$ есть матрица $P$ с элементами $p_{ik}$ в строке $i$ и столбце $k$, где\n",
    "\n",
    "$$p_{ik} =\\sum_{j} m_{ij}n_{jk}$$\n",
    "\n",
    "Необходимым требованием является одинаковое количество столбцов в $M$ и строк в $N$, чтобы операция суммирования по  $j$ была осмысленной. Мы можем размышлять о матрице, как об отношении с тремя атрибутами: номер строки, номер столбца, само значение. Таким образом матрица $M$ предстваляется как отношение $ M(I, J, V )$, с кортежами $(i, j, m_{ij})$, и, аналогично, матрица $N$ представляется как отношение $N(J, K, W)$, с кортежами $(j, k, n_{jk})$. Так как большие матрицы как правило разреженные (большинство значений равно 0), и так как мы можем нулевыми значениями пренебречь (не хранить), такое реляционное представление достаточно эффективно для больших матриц. Однако, возможно, что координаты $i$, $j$, и $k$ неявно закодированы в смещение позиции элемента относительно начала файла, вместо явного хранения. Тогда, функция Map (или Reader) должна быть разработана таким образом, чтобы реконструировать компоненты $I$, $J$, и $K$ кортежей из смещения.\n",
    "\n",
    "Произведение $MN$ это фактически join, за которым следуют группировка по ключу и аггрегация. Таким образом join отношений $M(I, J, V )$ и $N(J, K, W)$, имеющих общим только атрибут $J$, создаст кортежи $(i, j, k, v, w)$ из каждого кортежа $(i, j, v) \\in M$ и кортежа $(j, k, w) \\in N$. Такой 5 компонентный кортеж представляет пару элементов матрицы $(m_{ij} , n_{jk})$. Что нам хотелось бы получить на самом деле, это произведение этих элементов, то есть, 4 компонентный кортеж$(i, j, k, v \\times w)$, так как он представляет произведение $m_{ij}n_{jk}$. Мы представляем отношение как результат одной MapReduce операции, в которой мы можем произвести группировку и аггрегацию, с $I$ и $K$  атрибутами, по которым идёт группировка, и суммой  $V \\times W$. \n",
    "\n",
    "\n",
    "\n"
   ]
  },
  {
   "cell_type": "code",
   "execution_count": 116,
   "metadata": {
    "id": "1MBkGaLAYVCt"
   },
   "outputs": [],
   "source": [
    "def flatten(nested_iterable):\n",
    "  for iterable in nested_iterable:\n",
    "    for element in iterable:\n",
    "      yield element\n",
    "\n",
    "def groupbykey(iterable):\n",
    "  t = {}\n",
    "  for (k2, v2) in iterable:\n",
    "    t[k2] = t.get(k2, []) + [v2]\n",
    "  return t.items()\n",
    "\n",
    "def MapReduce(RECORDREADER, MAP, REDUCE):\n",
    "  return flatten(map(lambda x: REDUCE(*x), groupbykey(flatten(map(lambda x: MAP(*x), RECORDREADER())))))"
   ]
  },
  {
   "cell_type": "markdown",
   "metadata": {
    "id": "sMspsOT0ZB35"
   },
   "source": [
    "Реализуйте перемножение матриц с использованием модельного кода MapReduce для одной машины в случае, когда одна матрица хранится в памяти, а другая генерируется RECORDREADER-ом."
   ]
  },
  {
   "cell_type": "code",
   "execution_count": 122,
   "metadata": {
    "id": "psP1XekbsEjS"
   },
   "outputs": [],
   "source": [
    "import numpy as np\n",
    "\n",
    "I = 2\n",
    "J = 3\n",
    "K = 4 * 10\n",
    "small_mat = np.random.rand(\n",
    "    I, J\n",
    ")  \n",
    "big_mat = np.random.rand(J, K)\n",
    "\n",
    "\n",
    "def RECORDREADER():\n",
    "    for j in range(big_mat.shape[0]):\n",
    "        for k in range(big_mat.shape[1]):\n",
    "            yield ((j, k), big_mat[j, k])\n",
    "\n",
    "\n",
    "def MAP(k1, v1):\n",
    "    (j, k) = k1\n",
    "    w = v1\n",
    "\n",
    "    for i in range(I):\n",
    "        k2 = (i, k)\n",
    "        v2 = small_mat[i, j] * w\n",
    "        yield (k2, v2)\n",
    "\n",
    "\n",
    "def REDUCE(key, values):\n",
    "    (i, k) = key\n",
    "\n",
    "    k3 = (i, k)\n",
    "\n",
    "    v3 = 0\n",
    "    for j in range(J):\n",
    "        v3 += values[j]\n",
    "\n",
    "    yield (k3, v3)"
   ]
  },
  {
   "cell_type": "markdown",
   "metadata": {
    "id": "rnt306LHhHrm"
   },
   "source": [
    "Проверьте своё решение"
   ]
  },
  {
   "cell_type": "code",
   "execution_count": 123,
   "metadata": {
    "colab": {
     "base_uri": "https://localhost:8080/",
     "height": 34
    },
    "id": "Ewy_ZNYqW5a2",
    "outputId": "9ce264f2-9412-44e2-9b0a-cc780573ab3a"
   },
   "outputs": [
    {
     "data": {
      "text/plain": [
       "True"
      ]
     },
     "execution_count": 123,
     "metadata": {},
     "output_type": "execute_result"
    }
   ],
   "source": [
    "# CHECK THE SOLUTION\n",
    "reference_solution = np.matmul(small_mat, big_mat) \n",
    "solution = MapReduce(RECORDREADER, MAP, REDUCE)\n",
    "\n",
    "def asmatrix(reduce_output):\n",
    "  reduce_output = list(reduce_output)\n",
    "  I = max(i for ((i,k), vw) in reduce_output)+1\n",
    "  K = max(k for ((i,k), vw) in reduce_output)+1\n",
    "  mat = np.empty(shape=(I,K))\n",
    "  for ((i,k), vw) in reduce_output: \n",
    "    mat[i,k] = vw\n",
    "  return mat\n",
    "\n",
    "np.allclose(reference_solution, asmatrix(solution)) # should return true"
   ]
  },
  {
   "cell_type": "code",
   "execution_count": 124,
   "metadata": {
    "colab": {
     "base_uri": "https://localhost:8080/",
     "height": 34
    },
    "id": "TK7v4CEcfxqf",
    "outputId": "2c865d0a-4065-4e6b-c83f-5508ed5eb4fa"
   },
   "outputs": [
    {
     "data": {
      "text/plain": [
       "1"
      ]
     },
     "execution_count": 124,
     "metadata": {},
     "output_type": "execute_result"
    }
   ],
   "source": [
    "reduce_output = list(MapReduce(RECORDREADER, MAP, REDUCE))\n",
    "max(i for ((i,k), vw) in reduce_output)"
   ]
  },
  {
   "cell_type": "markdown",
   "metadata": {
    "id": "i4yyg3kOZqJJ"
   },
   "source": [
    "Реализуйте перемножение матриц  с использованием модельного кода MapReduce для одной машины в случае, когда обе матрицы генерируются в RECORDREADER. Например, сначала одна, а потом другая."
   ]
  },
  {
   "cell_type": "code",
   "execution_count": 125,
   "metadata": {
    "id": "3B7rIAJCaHZq"
   },
   "outputs": [
    {
     "data": {
      "text/plain": [
       "True"
      ]
     },
     "execution_count": 125,
     "metadata": {},
     "output_type": "execute_result"
    }
   ],
   "source": [
    "I = 2\n",
    "J = 3\n",
    "K = 4 * 10\n",
    "small_mat = np.random.rand(I, J)\n",
    "big_mat = np.random.rand(J, K)\n",
    "\n",
    "\n",
    "def RECORDREADER():\n",
    "    for i in range(I):\n",
    "        for j in range(J):\n",
    "            for k in range(K):\n",
    "                yield (((i, j), small_mat[i, j]), ((j, k), big_mat[j, k]))\n",
    "\n",
    "\n",
    "def MAP(element1, element2):\n",
    "    (i, j), v1 = element1\n",
    "    (j, k), v2 = element2\n",
    "\n",
    "    yield ((i, k), v1 * v2)\n",
    "\n",
    "\n",
    "def REDUCE(key, values):\n",
    "    (i, k) = key\n",
    "\n",
    "    k3 = (i, k)\n",
    "\n",
    "    v3 = 0\n",
    "    for j in range(J):\n",
    "        v3 += values[j]\n",
    "\n",
    "    yield (k3, v3)\n",
    "     \n",
    "\n",
    "# CHECK THE SOLUTION\n",
    "reference_solution = np.matmul(small_mat, big_mat)\n",
    "solution = MapReduce(RECORDREADER, MAP, REDUCE)\n",
    "\n",
    "def asmatrix(reduce_output):\n",
    "  reduce_output = list(reduce_output)\n",
    "  I = max(i for ((i,k), vw) in reduce_output)+1\n",
    "  K = max(k for ((i,k), vw) in reduce_output)+1\n",
    "  mat = np.empty(shape=(I,K))\n",
    "  for ((i,k), vw) in reduce_output:\n",
    "    mat[i,k] = vw\n",
    "  return mat\n",
    "\n",
    "np.allclose(reference_solution, asmatrix(solution)) # should return true"
   ]
  },
  {
   "cell_type": "markdown",
   "metadata": {
    "id": "mXyzQi1DaIwo"
   },
   "source": [
    "Реализуйте перемножение матриц с использованием модельного кода MapReduce Distributed, когда каждая матрица генерируется в своём RECORDREADER. "
   ]
  },
  {
   "cell_type": "code",
   "execution_count": 126,
   "metadata": {
    "id": "TDM_s78Rb5eR"
   },
   "outputs": [
    {
     "name": "stdout",
     "output_type": "stream",
     "text": [
      "240 key-value pairs were sent over a network.\n",
      "[[0.13041557 0.49912744 0.55448143 0.20952794 0.43557943 0.38492774\n",
      "  0.33556193 0.41389773 0.58399155 0.18255579 0.32681077 0.59868289\n",
      "  0.50268762 0.34194148 0.60142323 0.50516149 0.39157496 0.3470231\n",
      "  0.30745145 0.22510304 0.53925491 0.51020228 0.4059078  0.6802774\n",
      "  0.48412658 0.1846846  0.36122016 0.33455428 0.35166389 0.59642171\n",
      "  0.44034103 0.47560612 0.6285504  0.5647839  0.45990963 0.50499202\n",
      "  0.14571593 0.38138294 0.12053604 0.55914082]\n",
      " [0.49097311 0.70367605 1.12729502 0.27662535 0.59311878 0.83014855\n",
      "  0.37410205 0.4732491  1.02521261 0.37480612 0.77969932 1.430759\n",
      "  0.89492318 0.88742397 1.39151476 1.06152897 1.30280121 0.56651866\n",
      "  1.03798939 0.90057232 0.85273804 0.65469872 0.73550525 1.31290653\n",
      "  0.7538611  0.63493051 0.9156614  1.21632723 1.07718544 1.1065423\n",
      "  0.93581322 0.85347683 1.52329608 1.29029874 0.85413196 0.75360134\n",
      "  0.47859395 0.47004213 0.20488491 0.83265275]]\n"
     ]
    },
    {
     "data": {
      "text/plain": [
       "True"
      ]
     },
     "execution_count": 126,
     "metadata": {},
     "output_type": "execute_result"
    }
   ],
   "source": [
    "maps = 2\n",
    "reducers = 2\n",
    "\n",
    "\n",
    "def INPUTFORMAT():\n",
    "    global maps\n",
    "\n",
    "    def RECORDREADER(i_range):\n",
    "        for i in i_range:\n",
    "            for j in range(J):\n",
    "                for k in range(K):\n",
    "                    yield (((i, j), small_mat[i, j]), ((j, k), big_mat[j, k]))\n",
    "\n",
    "    split_size = int(np.ceil(I / maps))\n",
    "    for i in range(0, I, split_size):\n",
    "        yield RECORDREADER(range(i, i + split_size))\n",
    "\n",
    "\n",
    "def MAP(element1, element2):\n",
    "    (i, j), v1 = element1\n",
    "    (j, k), v2 = element2\n",
    "\n",
    "    yield ((i, k), v1 * v2)\n",
    "\n",
    "\n",
    "def REDUCE(key, values):\n",
    "    (i, k) = key\n",
    "\n",
    "    k3 = (i, k)\n",
    "\n",
    "    v3 = 0\n",
    "    for j in range(J):\n",
    "        v3 += values[j]\n",
    "\n",
    "    yield (k3, v3)\n",
    "\n",
    "\n",
    "partitioned_output = MapReduceDistributed(INPUTFORMAT, MAP, REDUCE, COMBINER=None)\n",
    "partitioned_output = [\n",
    "    (partition_id, list(partition)) for (partition_id, partition) in partitioned_output\n",
    "]\n",
    "\n",
    "solution = []\n",
    "for output_part in partitioned_output:\n",
    "    for element in output_part[1]:\n",
    "        solution += [element]\n",
    "\n",
    "print(asmatrix(solution))\n",
    "np.allclose(reference_solution, asmatrix(solution))  # should return true"
   ]
  },
  {
   "cell_type": "markdown",
   "metadata": {
    "id": "ZuSA2P9Db6UM"
   },
   "source": [
    "Обобщите предыдущее решение на случай, когда каждая матрица генерируется несколькими RECORDREADER-ами, и проверьте его работоспособность. Будет ли работать решение, если RECORDREADER-ы будут генерировать случайное подмножество элементов матрицы?"
   ]
  },
  {
   "cell_type": "code",
   "execution_count": 127,
   "metadata": {
    "id": "ehN0FqRDcwU5"
   },
   "outputs": [
    {
     "name": "stdout",
     "output_type": "stream",
     "text": [
      "126 key-value pairs were sent over a network.\n",
      "aa (0, [((0, 0), 0.34721049707395096), ((0, 1), 0.6011430607897797), ((0, 2), 0.4421471498870758), ((0, 3), 0.4949014133366182), ((0, 4), 0.07954217900957397), ((0, 5), 0.4254351849217115), ((0, 6), 0.27274712470860385), ((0, 7), 0.4328941639347816), ((0, 8), 0.002868761043102614), ((0, 9), 0.2809718618405342), ((0, 10), 0.6391307385987197), ((0, 11), 0.5776320841246269), ((0, 12), 0.5906770486168289), ((0, 13), 0.017926184039378547), ((0, 14), 0.6985103740822748), ((0, 15), 0.6469362303638772), ((0, 16), 0.011667581574541088), ((0, 17), 0.5675922590065343), ((0, 18), 0.4282723822036609), ((0, 19), 0.2905849064898332), ((0, 20), 0.5766831630356294), ((0, 21), 0.6809994580739922), ((0, 22), 0.5464492065934028), ((0, 23), 0.22598916233128796), ((0, 24), 0.5057474623261924), ((0, 25), 0.49636682533350923), ((0, 26), 0.39230203757308546), ((0, 27), 0.06374486708207874), ((0, 28), 0.3169796174949649), ((0, 29), 0.5131073105817926), ((0, 30), 0.47997679392506887), ((0, 31), 0.40140822107304547), ((0, 32), 0.686918945796996), ((0, 33), 0.1500335346936414), ((0, 34), 0.040028635082162034), ((0, 35), 0.11305198608350235), ((0, 36), 0.6814544402706695), ((0, 37), 0.16134567700305782), ((0, 38), 0.457129225066325), ((0, 39), 0.20849005654448013), ((1, 0), 0.48112447268037395), ((1, 1), 0.8329950867422882), ((1, 2), 0.612676794420883), ((1, 3), 0.6857776004094667), ((1, 4), 0.11022042609408288), ((1, 5), 0.5895192706732606), ((1, 6), 0.37794167416132607), ((1, 7), 0.5998550680487442), ((1, 8), 0.003975199931281959), ((1, 9), 0.3893385712853547), ((1, 10), 0.8856340524653938), ((1, 11), 0.8004162726063405), ((1, 12), 0.8184924877995354), ((1, 13), 0.024840049237567823), ((1, 14), 0.9679155389145017), ((1, 15), 0.8964500074586051), ((1, 16), 0.016167595967902775), ((1, 17), 0.7865042347893599), ((1, 18), 0.593450733165529), ((1, 19), 0.40265922569161194), ((1, 20), 0.7991013666273834), ((1, 21), 0.943650920472275), ((1, 22), 0.7572066184187499), ((1, 23), 0.3131498542653871), ((1, 24), 0.7008068107724902), ((1, 25), 0.6878082002335081), ((1, 26), 0.543607156319893), ((1, 27), 0.08833032359160947), ((1, 28), 0.43923398803582214), ((1, 29), 0.711005244117174), ((1, 30), 0.6650967750748352), ((1, 31), 0.5562254606956846), ((1, 32), 0.9518534674380758), ((1, 33), 0.2078992595908656), ((1, 34), 0.05546709016092473), ((1, 35), 0.15665447228200965), ((1, 36), 0.9442813826020208), ((1, 37), 0.22357432860337917), ((1, 38), 0.6334372353667069), ((1, 39), 0.2889016010731375), ((0, 0), 0.018836209569277226), ((0, 1), 0.00030289212669429446), ((0, 2), 0.027136244827806112), ((0, 3), 0.014886953318429206), ((0, 4), 0.016815845001750578), ((0, 5), 0.004433221047868575), ((0, 6), 0.0012808934574119264), ((0, 7), 0.00020371817964014185), ((0, 8), 0.01427320485728976), ((0, 9), 0.00600086725645419), ((0, 10), 0.012573574667744194), ((0, 11), 0.023024081694882417), ((0, 12), 0.01664014468140037), ((0, 13), 0.013911507918445776), ((0, 14), 0.029180090546906474), ((0, 15), 0.02131010437945024), ((0, 16), 0.026334489100370805), ((0, 17), 0.017008116791320096), ((0, 18), 0.02059763165141597), ((0, 19), 0.0016964363342074614), ((0, 20), 0.011325996407890348), ((0, 21), 0.019014391066841354), ((0, 22), 0.013006875381449743), ((0, 23), 0.017977746106793844), ((0, 24), 0.0054259182378166805), ((0, 25), 0.022180198362187164), ((0, 26), 0.015771341209897028), ((0, 27), 0.0035385088917185845), ((0, 28), 0.014843882019824674), ((0, 29), 0.027489701413254682), ((0, 30), 0.010674256356649897), ((0, 31), 0.008235649890218976), ((0, 32), 0.021699676966581677), ((0, 33), 0.026088694115003638), ((0, 34), 0.01634704401964186), ((0, 35), 0.00744848682455422), ((0, 36), 0.012362172107906747), ((0, 37), 0.016031396347512234), ((0, 38), 0.0013320432939497352), ((0, 39), 0.014841087168749122), ((1, 0), 0.12413361882096453), ((1, 1), 0.001996107319822285), ((1, 2), 0.17883217211500316), ((1, 3), 0.09810739160863421), ((1, 4), 0.11081909478244487), ((1, 5), 0.02921563224709391), ((1, 6), 0.008441291736952182), ((1, 7), 0.0013425352253245554), ((1, 8), 0.09406269157241769), ((1, 9), 0.03954667025062596), ((1, 10), 0.08286185812927244), ((1, 11), 0.1517323626233656), ((1, 12), 0.10966120170884858), ((1, 13), 0.09167905118181592), ((1, 14), 0.19230144067938978), ((1, 15), 0.14043697933730023), ((1, 16), 0.17354847427277326), ((1, 17), 0.1120861964755252), ((1, 18), 0.13574167067040202), ((1, 19), 0.01117978542816902), ((1, 20), 0.07464011884630044), ((1, 21), 0.1253078632472768), ((1, 22), 0.08571737879186403), ((1, 23), 0.11847620797980205), ((1, 24), 0.03575766471538042), ((1, 25), 0.14617103715791646), ((1, 26), 0.10393564856264494), ((1, 27), 0.023319336745733766), ((1, 28), 0.09782354489608651), ((1, 29), 0.1811615072652871), ((1, 30), 0.07034504818500378), ((1, 31), 0.05427424347002467), ((1, 32), 0.14300432468649124), ((1, 33), 0.1719286462012361), ((1, 34), 0.10772962170125262), ((1, 35), 0.04908671359126679), ((1, 36), 0.08146868161548805), ((1, 37), 0.10564945330698225), ((1, 38), 0.008778377300169485), ((1, 39), 0.09780512638270154)])\n",
      "aa (1, [((0, 0), 0.0657130495531861), ((0, 1), 0.047594244675923165), ((0, 2), 0.02213243681494911), ((0, 3), 0.006889245739458055), ((0, 4), 0.10390848521093558), ((0, 5), 0.1106581182957823), ((0, 6), 0.017056994223876992), ((0, 7), 0.043880121045844066), ((0, 8), 0.10345310674803775), ((0, 9), 0.061643803004805035), ((0, 10), 0.06916794665902613), ((0, 11), 0.09272374846399747), ((0, 12), 0.08240310046545522), ((0, 13), 0.026041164124061537), ((0, 14), 0.10678988098412415), ((0, 15), 0.06733810319975227), ((0, 16), 0.1045084065965454), ((0, 17), 0.09605601820927867), ((0, 18), 0.04563324929911647), ((0, 19), 0.058812686152502194), ((0, 20), 0.030646959228785502), ((0, 21), 0.06669674016189431), ((0, 22), 0.001900057154360183), ((0, 23), 0.0638855829649283), ((0, 24), 0.052126103349196366), ((0, 25), 0.09426355237079675), ((0, 26), 0.004224059942128742), ((0, 27), 0.08688678458763358), ((0, 28), 0.006683655679155045), ((0, 29), 0.10066894309160686), ((0, 30), 0.06244880506771081), ((0, 31), 0.08541174612391757), ((0, 32), 0.04612361346978586), ((0, 33), 0.03278833109521277), ((0, 34), 0.1125461130628489), ((0, 35), 0.07042974689306389), ((0, 36), 0.010144978767186258), ((0, 37), 0.08349608727586892), ((0, 38), 0.08858642743673409), ((0, 39), 0.10653597780254564), ((1, 0), 0.35875055010329987), ((1, 1), 0.2598336491052504), ((1, 2), 0.12082872331260644), ((1, 3), 0.03761080509324134), ((1, 4), 0.5672728093322273), ((1, 5), 0.6041214200518433), ((1, 6), 0.09312010479702337), ((1, 7), 0.2395569475291943), ((1, 8), 0.5647867388305445), ((1, 9), 0.33653510815282234), ((1, 10), 0.3776120433028697), ((1, 11), 0.5062114145558819), ((1, 12), 0.4498673828593643), ((1, 13), 0.14216783452236592), ((1, 14), 0.5830033579177114), ((1, 15), 0.367622287050786), ((1, 16), 0.5705479902676679), ((1, 17), 0.5244034420502786), ((1, 18), 0.24912788860618798), ((1, 19), 0.32107904980404156), ((1, 20), 0.16731248294026446), ((1, 21), 0.36412086162293034), ((1, 22), 0.010373077402270347), ((1, 23), 0.3487737700224689), ((1, 24), 0.2845746526514531), ((1, 25), 0.5146177433196742), ((1, 26), 0.023060622482319812), ((1, 27), 0.4743453846604985), ((1, 28), 0.03648841695677569), ((1, 29), 0.5495870144209539), ((1, 30), 0.34092989632450804), ((1, 31), 0.46629263313124025), ((1, 32), 0.25180495833852795), ((1, 33), 0.17900298186368974), ((1, 34), 0.6144286446576515), ((1, 35), 0.3845006526606676), ((1, 36), 0.055384991843494574), ((1, 37), 0.45583438061943937), ((1, 38), 0.483624330185625), ((1, 39), 0.5816172115330341)])\n",
      "240 key-value pairs were sent over a network.\n",
      "[((0, 1), 0.6490401975923973), ((0, 2), 0.49141583152983104), ((0, 4), 0.20026650922226014), ((0, 5), 0.5405265242653624), ((0, 8), 0.12059507264843011), ((0, 9), 0.34861653210179344), ((0, 11), 0.6933799142835068), ((0, 12), 0.6897202937636845), ((0, 15), 0.7355844379430797), ((0, 16), 0.14251047727145727), ((0, 18), 0.49450326315419335), ((0, 19), 0.35109402897654285), ((0, 22), 0.5613561391292127), ((0, 23), 0.3078524914030101), ((0, 25), 0.6128105760664931), ((0, 26), 0.41229743872511126), ((0, 29), 0.6412659550866542), ((0, 32), 0.7547422362333636), ((0, 33), 0.20891055990385782), ((0, 36), 0.7039615911457625), ((0, 39), 0.3298671215157749), ((1, 0), 0.9640086416046383), ((1, 1), 1.0948248431673608), ((1, 3), 0.8214957971113422), ((1, 4), 0.7883123302087551), ((1, 7), 0.8407545508032631), ((1, 10), 1.346107953897536), ((1, 11), 1.458360049785588), ((1, 14), 1.7432203375116029), ((1, 17), 1.4229938733151637), ((1, 18), 0.9783202924421189), ((1, 21), 1.4330796453424821), ((1, 24), 1.0211391281393238), ((1, 25), 1.3485969807110987), ((1, 27), 0.5859950449978417), ((1, 28), 0.5735459498886843), ((1, 31), 1.0767923372969495), ((1, 32), 1.346662750463095), ((1, 34), 0.7776253565198288), ((1, 35), 0.5902418385339441), ((1, 38), 1.1258399428525014), ((1, 39), 0.9683239389888731), ((0, 0), 0.43175975619641427), ((0, 3), 0.5166776123945054), ((0, 6), 0.2910850123898928), ((0, 7), 0.4769780031602658), ((0, 10), 0.7208722599254901), ((0, 13), 0.05787885608188586), ((0, 14), 0.8344803456133054), ((0, 17), 0.6806563940071331), ((0, 20), 0.6186561186723052), ((0, 21), 0.7667105893027278), ((0, 24), 0.5632994839132054), ((0, 27), 0.1541701605614309), ((0, 28), 0.3385071551939446), ((0, 30), 0.5530998553494295), ((0, 31), 0.495055617087182), ((0, 34), 0.1689217921646528), ((0, 35), 0.19093021980112046), ((0, 37), 0.260873160626439), ((0, 38), 0.5470476957970088), ((1, 2), 0.9123376898484925), ((1, 5), 1.2228563229721978), ((1, 6), 0.4795030706953016), ((1, 8), 0.6628246303342442), ((1, 9), 0.765420349688803), ((1, 12), 1.3780210723677482), ((1, 13), 0.25868693494174966), ((1, 15), 1.4045092738466913), ((1, 16), 0.7602640605083439), ((1, 19), 0.7349180609238225), ((1, 20), 1.0410539684139484), ((1, 22), 0.8532970746128843), ((1, 23), 0.7803998322676581), ((1, 26), 0.6706034273648577), ((1, 29), 1.4417537658034152), ((1, 30), 1.076371719584347), ((1, 33), 0.5588308876557915), ((1, 36), 1.0811350560610034), ((1, 37), 0.7850581625298008)]\n"
     ]
    },
    {
     "data": {
      "text/plain": [
       "True"
      ]
     },
     "execution_count": 127,
     "metadata": {},
     "output_type": "execute_result"
    }
   ],
   "source": [
    "I = 2\n",
    "J = 3\n",
    "K = 4*10\n",
    "small_mat = np.random.rand(I,J)\n",
    "big_mat = np.random.rand(J,K)\n",
    "reference_solution = np.matmul(small_mat, big_mat)\n",
    "\n",
    "def INPUTFORMAT():\n",
    "  first_mat = []\n",
    "  for i in range(small_mat.shape[0]):\n",
    "    for j in range(small_mat.shape[1]):\n",
    "      first_mat.append(((0, i, j), small_mat[i,j])) \n",
    "\n",
    "  global maps\n",
    "  split_size =  int(np.ceil(len(first_mat)/maps))\n",
    "  for i in range(0, len(first_mat), split_size):\n",
    "    yield first_mat[i:i+split_size]\n",
    "\n",
    "  second_mat = []\n",
    "  for j in range(big_mat.shape[0]):\n",
    "    for k in range(big_mat.shape[1]):\n",
    "      second_mat.append(((1, j, k), big_mat[j,k])) \n",
    "\n",
    "  split_size =  int(np.ceil(len(second_mat)/maps))\n",
    "  for i in range(0, len(second_mat), split_size):\n",
    "    yield second_mat[i:i+split_size]\n",
    "\n",
    "\n",
    "def MAP_JOIN(k1, v1):\n",
    "  (mat_num, i, j) = k1\n",
    "  w = v1\n",
    "  if mat_num == 0:\n",
    "    yield (j, (mat_num, i, w))\n",
    "  else:\n",
    "    yield (i, (mat_num, j, w))\n",
    "\n",
    "\n",
    "def REDUCE_JOIN(key, values):\n",
    "  from_first_mat = [v for v in values if v[0] == 0]\n",
    "  from_second_mat = [v for v in values if v[0] == 1]\n",
    "  for f in from_first_mat:\n",
    "    for s in from_second_mat:\n",
    "      yield ((f[1], s[1]), f[2] * s[2])\n",
    "\n",
    "\n",
    "def GET_JOINED():\n",
    "  for j in joined:\n",
    "    print(\"aa\", j)\n",
    "    yield j[1]\n",
    "\n",
    "\n",
    "def MAP_MUL(k1, v1):\n",
    "  yield (k1, v1)\n",
    "\n",
    "\n",
    "def REDUCE_MUL(key, values):\n",
    "  res_val = 0\n",
    "  for v in values:\n",
    "    res_val += v\n",
    "  yield (key, res_val)\n",
    "\n",
    "maps = 3\n",
    "reducers = 2\n",
    "partitioned_output = MapReduceDistributed(INPUTFORMAT, MAP_JOIN, REDUCE_JOIN, COMBINER=None)\n",
    "joined = [(partition_id, list(partition)) for (partition_id, partition) in partitioned_output]\n",
    "\n",
    "mul_output = MapReduceDistributed(GET_JOINED, MAP_MUL, REDUCE_MUL, COMBINER=None)\n",
    "pre_result = [(partition_id, list(partition)) for (partition_id, partition) in mul_output]\n",
    "\n",
    "solution = []\n",
    "for p in pre_result:\n",
    "  for v in p[1]:\n",
    "    solution.append(v)\n",
    "\n",
    "print(solution)\n",
    "np.allclose(reference_solution, asmatrix(solution)) # should return true"
   ]
  },
  {
   "cell_type": "code",
   "execution_count": null,
   "metadata": {},
   "outputs": [],
   "source": []
  }
 ],
 "metadata": {
  "colab": {
   "provenance": []
  },
  "kernelspec": {
   "display_name": "Python 3 (ipykernel)",
   "language": "python",
   "name": "python3"
  },
  "language_info": {
   "codemirror_mode": {
    "name": "ipython",
    "version": 3
   },
   "file_extension": ".py",
   "mimetype": "text/x-python",
   "name": "python",
   "nbconvert_exporter": "python",
   "pygments_lexer": "ipython3",
   "version": "3.10.9"
  }
 },
 "nbformat": 4,
 "nbformat_minor": 1
}
