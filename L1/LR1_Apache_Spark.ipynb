{
 "cells": [
  {
   "cell_type": "code",
   "execution_count": 1,
   "metadata": {
    "colab": {
     "base_uri": "https://localhost:8080/"
    },
    "id": "QJDlj-KyY-UK",
    "outputId": "e4e7c08b-bf81-4c21-9ea8-e5a2a89e3382"
   },
   "outputs": [
    {
     "name": "stdout",
     "output_type": "stream",
     "text": [
      "Requirement already satisfied: pyspark in c:\\users\\belia\\anaconda3\\lib\\site-packages (3.5.1)\n",
      "Requirement already satisfied: py4j==0.10.9.7 in c:\\users\\belia\\anaconda3\\lib\\site-packages (from pyspark) (0.10.9.7)\n"
     ]
    }
   ],
   "source": [
    "!pip install pyspark"
   ]
  },
  {
   "cell_type": "code",
   "execution_count": 5,
   "metadata": {
    "id": "mKDfjYPvYz4F"
   },
   "outputs": [],
   "source": [
    "from pyspark import SparkContext, SparkConf\n",
    "\n",
    "import pyspark.sql as sql\n",
    "from pyspark.sql import SparkSession\n",
    "from pyspark.sql.types import DoubleType\n",
    "from pyspark.sql.functions import udf, col, max, sum, countDistinct\n",
    "from typing import NamedTuple\n",
    "from datetime import datetime\n",
    "from functools import reduce\n",
    "import os\n",
    "# Установите эти переменные с абсолютным путем к исполнимому файлу Python\n",
    "os.environ['PYSPARK_PYTHON'] = 'C:/Users/belia/AppData/Local/Programs/Python/Python310/python.exe'\n",
    "os.environ['PYSPARK_DRIVER_PYTHON'] = 'C:/Users/belia/AppData/Local/Programs/Python/Python310/python.exe'"
   ]
  },
  {
   "cell_type": "code",
   "execution_count": 6,
   "metadata": {
    "colab": {
     "base_uri": "https://localhost:8080/",
     "height": 196
    },
    "id": "oqbOTcH0aOVo",
    "outputId": "c69d4979-63de-4023-d34c-3eb1e4cf3ae0"
   },
   "outputs": [
    {
     "data": {
      "text/html": [
       "\n",
       "        <div>\n",
       "            <p><b>SparkContext</b></p>\n",
       "\n",
       "            <p><a href=\"http://DESKTOP-LPPER7S:4040\">Spark UI</a></p>\n",
       "\n",
       "            <dl>\n",
       "              <dt>Version</dt>\n",
       "                <dd><code>v3.5.1</code></dd>\n",
       "              <dt>Master</dt>\n",
       "                <dd><code>local[*]</code></dd>\n",
       "              <dt>AppName</dt>\n",
       "                <dd><code>pyspark-shell</code></dd>\n",
       "            </dl>\n",
       "        </div>\n",
       "        "
      ],
      "text/plain": [
       "<SparkContext master=local[*] appName=pyspark-shell>"
      ]
     },
     "execution_count": 6,
     "metadata": {},
     "output_type": "execute_result"
    }
   ],
   "source": [
    "app_name = \"LR1_Apache_Spark\"\n",
    "conf = SparkConf().setAppName(app_name).setMaster('local[1]')\n",
    "sc = SparkContext.getOrCreate()\n",
    "sc"
   ]
  },
  {
   "cell_type": "code",
   "execution_count": 7,
   "metadata": {
    "id": "xIVxZwuSaYQE"
   },
   "outputs": [],
   "source": [
    "def initStation(stations):\n",
    "    class Station(NamedTuple):\n",
    "        station_id: int\n",
    "        name: str\n",
    "        lat: float\n",
    "        long: float\n",
    "        dockcount: int\n",
    "        landmark: str\n",
    "        installation: str\n",
    "\n",
    "    for station in stations:\n",
    "        yield Station(\n",
    "            station_id = int(station[0]),\n",
    "            name = station[1],\n",
    "            lat = float(station[2]),\n",
    "            long = float(station[3]),\n",
    "            dockcount = int(station[4]),\n",
    "            landmark = station[5],\n",
    "            installation = datetime.strptime(station[6], '%m/%d/%Y')\n",
    "        )\n",
    "\n",
    "def initTrip(trips):\n",
    "    class Trip(NamedTuple):\n",
    "        trip_id: int\n",
    "        duration: int\n",
    "        start_date: datetime\n",
    "        start_station_name: str\n",
    "        start_station_id: int\n",
    "        end_date: datetime\n",
    "        end_station_name: str\n",
    "        end_station_id: int\n",
    "        bike_id: int\n",
    "        subscription_type: str\n",
    "        zip_code: str\n",
    "\n",
    "    for trip in trips:\n",
    "        try:\n",
    "            yield Trip(\n",
    "             trip_id = int(trip[0]),\n",
    "             duration = int(trip[1]),\n",
    "             start_date = datetime.strptime(trip[2], '%m/%d/%Y %H:%M'),\n",
    "             start_station_name = trip[3],\n",
    "             start_station_id = int(trip[4]),\n",
    "             end_date = datetime.strptime(trip[5], '%m/%d/%Y %H:%M'),\n",
    "             end_station_name = trip[6],\n",
    "             end_station_id = trip[7],\n",
    "             bike_id = int(trip[8]),\n",
    "             subscription_type = trip[9],\n",
    "             zip_code = trip[10]\n",
    "            )\n",
    "        except:\n",
    "            pass"
   ]
  },
  {
   "cell_type": "code",
   "execution_count": 8,
   "metadata": {
    "id": "bbfw-I_Oaf1O"
   },
   "outputs": [],
   "source": [
    "trip_data = sc.textFile(\"trip.csv\")\n",
    "tripsHeader = trip_data.first()\n",
    "trips = trip_data.filter(lambda row: row != tripsHeader).map(lambda row: row.split(\",\", -1))\n",
    "stationData = sc.textFile(\"station.csv\")\n",
    "stationsHeader = stationData.first()\n",
    "stations = stationData.filter(lambda row: row != stationsHeader).map(lambda row: row.split(\",\", -1))"
   ]
  },
  {
   "cell_type": "code",
   "execution_count": 9,
   "metadata": {
    "id": "29fw2yxxbBXG"
   },
   "outputs": [],
   "source": [
    "stationsIndexed = stations.keyBy(lambda station: station[0])"
   ]
  },
  {
   "cell_type": "code",
   "execution_count": 10,
   "metadata": {
    "colab": {
     "base_uri": "https://localhost:8080/"
    },
    "id": "kQCI_4s_brCv",
    "outputId": "8004e091-6e80-438a-e27e-02de3ed6573b"
   },
   "outputs": [
    {
     "data": {
      "text/plain": [
       "[('2',\n",
       "  ['2',\n",
       "   'San Jose Diridon Caltrain Station',\n",
       "   '37.329732',\n",
       "   '-121.90178200000001',\n",
       "   '27',\n",
       "   'San Jose',\n",
       "   '8/6/2013']),\n",
       " ('3',\n",
       "  ['3',\n",
       "   'San Jose Civic Center',\n",
       "   '37.330698',\n",
       "   '-121.888979',\n",
       "   '15',\n",
       "   'San Jose',\n",
       "   '8/5/2013'])]"
      ]
     },
     "execution_count": 10,
     "metadata": {},
     "output_type": "execute_result"
    }
   ],
   "source": [
    "stationsIndexed.take(2)"
   ]
  },
  {
   "cell_type": "code",
   "execution_count": 11,
   "metadata": {
    "id": "9Mo3VDcIb9tu"
   },
   "outputs": [],
   "source": [
    "tripsByStartTerminals = trips.keyBy(lambda trip: trip[4])\n",
    "tripsByEndTerminals = trips.keyBy(lambda trip: trip[7])"
   ]
  },
  {
   "cell_type": "code",
   "execution_count": 12,
   "metadata": {
    "colab": {
     "base_uri": "https://localhost:8080/"
    },
    "id": "D9zHPykUmPcH",
    "outputId": "ec7ed375-117e-45d2-ca16-ed3eb8f8a164"
   },
   "outputs": [
    {
     "data": {
      "text/plain": [
       "[('66',\n",
       "  ['4576',\n",
       "   '63',\n",
       "   '8/29/2013 14:13',\n",
       "   'South Van Ness at Market',\n",
       "   '66',\n",
       "   '8/29/2013 14:14',\n",
       "   'South Van Ness at Market',\n",
       "   '66',\n",
       "   '520',\n",
       "   'Subscriber',\n",
       "   '94127']),\n",
       " ('10',\n",
       "  ['4607',\n",
       "   '70',\n",
       "   '8/29/2013 14:42',\n",
       "   'San Jose City Hall',\n",
       "   '10',\n",
       "   '8/29/2013 14:43',\n",
       "   'San Jose City Hall',\n",
       "   '10',\n",
       "   '661',\n",
       "   'Subscriber',\n",
       "   '95138'])]"
      ]
     },
     "execution_count": 12,
     "metadata": {},
     "output_type": "execute_result"
    }
   ],
   "source": [
    "tripsByStartTerminals.take(2)"
   ]
  },
  {
   "cell_type": "code",
   "execution_count": 13,
   "metadata": {
    "colab": {
     "base_uri": "https://localhost:8080/"
    },
    "id": "TIrDEa6cmyGj",
    "outputId": "873190b8-9d56-4f8b-ee0e-dd7240cd6ff6"
   },
   "outputs": [
    {
     "data": {
      "text/plain": [
       "[('66',\n",
       "  ['4576',\n",
       "   '63',\n",
       "   '8/29/2013 14:13',\n",
       "   'South Van Ness at Market',\n",
       "   '66',\n",
       "   '8/29/2013 14:14',\n",
       "   'South Van Ness at Market',\n",
       "   '66',\n",
       "   '520',\n",
       "   'Subscriber',\n",
       "   '94127']),\n",
       " ('10',\n",
       "  ['4607',\n",
       "   '70',\n",
       "   '8/29/2013 14:42',\n",
       "   'San Jose City Hall',\n",
       "   '10',\n",
       "   '8/29/2013 14:43',\n",
       "   'San Jose City Hall',\n",
       "   '10',\n",
       "   '661',\n",
       "   'Subscriber',\n",
       "   '95138'])]"
      ]
     },
     "execution_count": 13,
     "metadata": {},
     "output_type": "execute_result"
    }
   ],
   "source": [
    "tripsByEndTerminals.take(2)"
   ]
  },
  {
   "cell_type": "code",
   "execution_count": 14,
   "metadata": {
    "id": "gItmXHzYo5V7"
   },
   "outputs": [],
   "source": [
    "stations_mapped = stations.mapPartitions(initStation)"
   ]
  },
  {
   "cell_type": "code",
   "execution_count": 15,
   "metadata": {
    "id": "Hu1_1UCvo6Wp"
   },
   "outputs": [],
   "source": [
    "trips_mapped= trips.mapPartitions(initTrip)"
   ]
  },
  {
   "cell_type": "markdown",
   "metadata": {
    "id": "nYhnhNPWoD38"
   },
   "source": [
    "## Задание 1. Найти велосипед с максимальным временем пробега"
   ]
  },
  {
   "cell_type": "code",
   "execution_count": 20,
   "metadata": {
    "colab": {
     "base_uri": "https://localhost:8080/"
    },
    "id": "bc0DPwXyoDBU",
    "outputId": "7c803d63-6073-4541-9dc7-c871b19c52be"
   },
   "outputs": [
    {
     "name": "stdout",
     "output_type": "stream",
     "text": [
      "ID велосипеда с максимальным временем пробега: 535, Время пробега: 18611693\n"
     ]
    }
   ],
   "source": [
    "bike_durations = trips.map(lambda trip: (trip[8], int(trip[1])))\n",
    "\n",
    "total_duration_per_bike = bike_durations.reduceByKey(lambda x, y: x + y)\n",
    "\n",
    "max_duration_bike = total_duration_per_bike.reduce(lambda a, b: a if a[1] > b[1] else b)\n",
    "\n",
    "print(f\"ID велосипеда с максимальным временем пробега: {max_duration_bike[0]}, Время пробега: {max_duration_bike[1]}\")"
   ]
  },
  {
   "cell_type": "markdown",
   "metadata": {
    "id": "q4K9aANDp5yt"
   },
   "source": [
    "## Задание 2. Найти наибольшее геодезическое расстояние между станциями\n"
   ]
  },
  {
   "cell_type": "code",
   "execution_count": 25,
   "metadata": {
    "colab": {
     "base_uri": "https://localhost:8080/"
    },
    "id": "IsdcIDfNqDHC",
    "outputId": "e17b7d4f-7ccb-4933-9cf0-6fd44ddcaf55"
   },
   "outputs": [
    {
     "name": "stdout",
     "output_type": "stream",
     "text": [
      "The maximum distance is 69.92 km between stations 16 and 60\n"
     ]
    }
   ],
   "source": [
    "import math\n",
    "\n",
    "def haversine(lon1, lat1, lon2, lat2):\n",
    "    lon1, lat1, lon2, lat2 = map(math.radians, [lon1, lat1, lon2, lat2])\n",
    "    dlon = lon2 - lon1\n",
    "    dlat = lat2 - lat1\n",
    "    a = math.sin(dlat/2)**2 + math.cos(lat1) * math.cos(lat2) * math.sin(dlon/2)**2\n",
    "    c = 2 * math.asin(math.sqrt(a))\n",
    "    r = 6371\n",
    "    return c * r\n",
    "\n",
    "def calculate_distances(stations):\n",
    "    import itertools\n",
    "    pairs = list(itertools.combinations(stations.collect(), 2))\n",
    "    max_distance = 0\n",
    "    max_pair = None\n",
    "    for (id1, lat1, lon1), (id2, lat2, lon2) in pairs:\n",
    "        dist = haversine(float(lon1), float(lat1), float(lon2), float(lat2))\n",
    "        if dist > max_distance:\n",
    "            max_distance = dist\n",
    "            max_pair = (id1, id2)\n",
    "    return max_distance, max_pair\n",
    "\n",
    "stations_rdd = stations.map(lambda x: (x[0], float(x[2]), float(x[3])))  \n",
    "max_distance, max_pair = calculate_distances(stations_rdd)\n",
    "\n",
    "print(f\"Наибольшее расстояние :{max_distance:.2f} между станциями {max_pair[0]} и {max_pair[1]}\")"
   ]
  },
  {
   "cell_type": "markdown",
   "metadata": {
    "id": "_6mFK_ojqtmI"
   },
   "source": [
    "## Задание 3. Найти путь велосипеда с максимальным временем пробега через станции"
   ]
  },
  {
   "cell_type": "code",
   "execution_count": 27,
   "metadata": {
    "colab": {
     "base_uri": "https://localhost:8080/"
    },
    "id": "jiHaw40wqvQN",
    "outputId": "60124d78-5773-416f-c252-1eadaa776dac"
   },
   "outputs": [
    {
     "name": "stdout",
     "output_type": "stream",
     "text": [
      "Самая длинная поездка велосипеда с ID 535:\n",
      "ID поездки: 568474, Длительность: 17270400 секунд,\n",
      "От станции: South Van Ness at Market до станции: 2nd at Folsom\n"
     ]
    }
   ],
   "source": [
    "bike_durations = trips.map(lambda trip: (trip[8], int(trip[1])))  \n",
    "total_duration_per_bike = bike_durations.reduceByKey(lambda x, y: x + y)\n",
    "\n",
    "max_duration_bike = total_duration_per_bike.reduce(lambda a, b: a if a[1] > b[1] else b)[0]\n",
    "\n",
    "bike_trips = trips.filter(lambda trip: trip[8] == max_duration_bike)\n",
    "longest_trip = bike_trips.reduce(lambda a, b: a if int(a[1]) > int(b[1]) else b)  # Сравниваем по длительности\n",
    "\n",
    "print(f\"Самая длинная поездка велосипеда с ID {max_duration_bike}:\")\n",
    "print(f\"ID поездки: {longest_trip[0]}, Длительность: {longest_trip[1]} секунд,\")\n",
    "print(f\"От станции: {longest_trip[3]} до станции: {longest_trip[6]}\")"
   ]
  },
  {
   "cell_type": "markdown",
   "metadata": {
    "id": "1j9X7dGpqypA"
   },
   "source": [
    "## Задание 4. Найти количество велосипедов в системе."
   ]
  },
  {
   "cell_type": "code",
   "execution_count": 28,
   "metadata": {
    "colab": {
     "base_uri": "https://localhost:8080/"
    },
    "id": "Ja2LNpf1q2Ev",
    "outputId": "7a36f24f-6a64-4ae4-c594-d776de7310cd"
   },
   "outputs": [
    {
     "name": "stdout",
     "output_type": "stream",
     "text": [
      "Количество уникальных велосипедов в системе: 700\n"
     ]
    }
   ],
   "source": [
    "unique_bikes = trips.map(lambda trip: trip[8]).distinct() \n",
    "bike_count = unique_bikes.count()\n",
    "\n",
    "print(f\"Количество уникальных велосипедов в системе: {bike_count}\")"
   ]
  },
  {
   "cell_type": "markdown",
   "metadata": {
    "id": "JVuvdR_2q4DQ"
   },
   "source": [
    "## Задание 5. Найти пользователей потративших на поездки более 3 часов."
   ]
  },
  {
   "cell_type": "code",
   "execution_count": 30,
   "metadata": {
    "colab": {
     "base_uri": "https://localhost:8080/"
    },
    "id": "EcjaGJQOq3rF",
    "outputId": "88ac572e-524c-442c-e9be-1f8f6927f169"
   },
   "outputs": [
    {
     "name": "stdout",
     "output_type": "stream",
     "text": [
      "Первые несколько пользователей, потратившие на поездки более 3 часов:\n",
      "Пользователь (ZIP-код): 95138, Всего часов: 43.16\n",
      "Пользователь (ZIP-код): 95060, Всего часов: 210.72\n",
      "Пользователь (ZIP-код): 94109, Всего часов: 3349.20\n",
      "Пользователь (ZIP-код): 94061, Всего часов: 847.05\n",
      "Пользователь (ZIP-код): 94612, Всего часов: 516.89\n"
     ]
    }
   ],
   "source": [
    "user_durations = trips.map(lambda trip: (trip[10], float(trip[1]) / 3600))\n",
    "\n",
    "total_durations_per_user = user_durations.reduceByKey(lambda x, y: x + y)\n",
    "\n",
    "users_over_3_hours = total_durations_per_user.filter(lambda user_duration: user_duration[1] > 3)\n",
    "\n",
    "first_few_users = users_over_3_hours.take(5)  \n",
    "\n",
    "print(\"Первые несколько пользователей, потратившие на поездки более 3 часов:\")\n",
    "for user, total_hours in first_few_users:\n",
    "    print(f\"Пользователь: {user}, Всего часов: {total_hours:.2f}\")"
   ]
  },
  {
   "cell_type": "code",
   "execution_count": 66,
   "metadata": {
    "id": "nPAbWyhomPG_"
   },
   "outputs": [],
   "source": [
    "sc.stop()"
   ]
  }
 ],
 "metadata": {
  "colab": {
   "provenance": []
  },
  "kernelspec": {
   "display_name": "Python 3 (ipykernel)",
   "language": "python",
   "name": "python3"
  },
  "language_info": {
   "codemirror_mode": {
    "name": "ipython",
    "version": 3
   },
   "file_extension": ".py",
   "mimetype": "text/x-python",
   "name": "python",
   "nbconvert_exporter": "python",
   "pygments_lexer": "ipython3",
   "version": "3.10.9"
  }
 },
 "nbformat": 4,
 "nbformat_minor": 1
}
